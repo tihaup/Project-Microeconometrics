{
 "cells": [
  {
   "cell_type": "code",
   "execution_count": 1,
   "metadata": {},
   "outputs": [
    {
     "name": "stderr",
     "output_type": "stream",
     "text": [
      "C:\\Users\\Timo\\Anaconda3\\lib\\site-packages\\rpy2\\robjects\\packages.py:367: UserWarning: The symbol 'quartz' is not in this R namespace/package.\n",
      "  \"The symbol '%s' is not in this R namespace/package.\" % name\n"
     ]
    }
   ],
   "source": [
    "from auxiliary_attendance_cache import *\n",
    "import rpy2\n",
    "import os \n",
    "import pickle\n",
    "\n",
    "###############################################################################\n",
    "\n",
    "\n",
    "### Load your R environment here:\n",
    "os.environ['R_HOME'] = \"C:/Users/Timo/Anaconda3/envs/R environment/Lib/R\"\n",
    "\n",
    "\n",
    "### R packages that have to be installed:\n",
    "\n",
    "# rdrobust\n",
    "# rddensity\n",
    "\n",
    "###############################################################################\n",
    "\n",
    "import rpy2.robjects as robjects\n",
    "from rpy2.robjects import pandas2ri\n",
    "pandas2ri.activate()\n",
    "%load_ext rpy2.ipython"
   ]
  },
  {
   "cell_type": "markdown",
   "metadata": {},
   "source": [
    "## Data Set"
   ]
  },
  {
   "cell_type": "code",
   "execution_count": 2,
   "metadata": {},
   "outputs": [],
   "source": [
    "### Import Data set\n",
    "\n",
    "df = get_data_Rmagic()"
   ]
  },
  {
   "cell_type": "markdown",
   "metadata": {},
   "source": [
    "# Replication of Figure 2"
   ]
  },
  {
   "cell_type": "code",
   "execution_count": 3,
   "metadata": {},
   "outputs": [
    {
     "data": {
      "text/html": [
       "<div>\n",
       "<style scoped>\n",
       "    .dataframe tbody tr th:only-of-type {\n",
       "        vertical-align: middle;\n",
       "    }\n",
       "\n",
       "    .dataframe tbody tr th {\n",
       "        vertical-align: top;\n",
       "    }\n",
       "\n",
       "    .dataframe thead th {\n",
       "        text-align: right;\n",
       "    }\n",
       "</style>\n",
       "<table border=\"1\" class=\"dataframe\">\n",
       "  <thead>\n",
       "    <tr style=\"text-align: right;\">\n",
       "      <th></th>\n",
       "      <th>studentid</th>\n",
       "      <th>firstyeargpa</th>\n",
       "    </tr>\n",
       "  </thead>\n",
       "  <tbody>\n",
       "    <tr>\n",
       "      <th>0</th>\n",
       "      <td>3.0</td>\n",
       "      <td>7.036000</td>\n",
       "    </tr>\n",
       "    <tr>\n",
       "      <th>1</th>\n",
       "      <td>4.0</td>\n",
       "      <td>7.073684</td>\n",
       "    </tr>\n",
       "    <tr>\n",
       "      <th>2</th>\n",
       "      <td>12.0</td>\n",
       "      <td>6.506667</td>\n",
       "    </tr>\n",
       "    <tr>\n",
       "      <th>3</th>\n",
       "      <td>13.0</td>\n",
       "      <td>6.596491</td>\n",
       "    </tr>\n",
       "    <tr>\n",
       "      <th>4</th>\n",
       "      <td>15.0</td>\n",
       "      <td>7.070176</td>\n",
       "    </tr>\n",
       "  </tbody>\n",
       "</table>\n",
       "</div>"
      ],
      "text/plain": [
       "   studentid  firstyeargpa\n",
       "0        3.0      7.036000\n",
       "1        4.0      7.073684\n",
       "2       12.0      6.506667\n",
       "3       13.0      6.596491\n",
       "4       15.0      7.070176"
      ]
     },
     "execution_count": 3,
     "metadata": {},
     "output_type": "execute_result"
    }
   ],
   "source": [
    "### Density around cutoff\n",
    "### consider only one GPA value for each student\n",
    "\n",
    "df3 = get_truncated_data(df,0.5,1,\"all courses\")\n",
    "\n",
    "df3 = collect_each_student(df3)\n",
    "df3.head()"
   ]
  },
  {
   "cell_type": "markdown",
   "metadata": {},
   "source": [
    "Implementation of R-magic:"
   ]
  },
  {
   "cell_type": "code",
   "execution_count": 4,
   "metadata": {},
   "outputs": [
    {
     "name": "stderr",
     "output_type": "stream",
     "text": [
      "R[write to console]: Registered S3 methods overwritten by 'ggplot2':\n",
      "  method         from \n",
      "  [.quosures     rlang\n",
      "  c.quosures     rlang\n",
      "  print.quosures rlang\n",
      "\n"
     ]
    },
    {
     "data": {
      "image/png": "[encoded data removed]"
     },
     "metadata": {},
     "output_type": "display_data"
    }
   ],
   "source": [
    "%%R -i df3 -o graph1\n",
    "\n",
    "library(\"rddensity\")\n",
    "\n",
    "graph1 <- rdplotdensity(rdd=rddensity(X=df3$firstyeargpa,c=7),X=df3$firstyeargpa)$estplot"
   ]
  },
  {
   "cell_type": "markdown",
   "metadata": {},
   "source": [
    "## Replication of Table 4"
   ]
  },
  {
   "cell_type": "markdown",
   "metadata": {},
   "source": [
    "**voluntary courses**"
   ]
  },
  {
   "cell_type": "code",
   "execution_count": 5,
   "metadata": {},
   "outputs": [],
   "source": [
    "df_vol = get_truncated_data(df,\"total range\",1,\"voluntary\")"
   ]
  },
  {
   "cell_type": "code",
   "execution_count": 6,
   "metadata": {},
   "outputs": [
    {
     "name": "stdout",
     "output_type": "stream",
     "text": [
      "[1]"
     ]
    },
    {
     "name": "stderr",
     "output_type": "stream",
     "text": [
      "C:\\Users\\Timo\\Anaconda3\\lib\\site-packages\\rpy2\\robjects\\pandas2ri.py:62: UserWarning: Error while trying to convert the column \"coursepolicy\". Fall back to string conversion. The error is: module 'pandas' has no attribute 'NA'\n",
      "  % (name, str(e)))\n"
     ]
    },
    {
     "name": "stdout",
     "output_type": "stream",
     "text": [
      " \"Mass points detected in the running variable.\"\n",
      "[1] \"Mass points detected in the running variable.\"\n",
      "[1] \"Mass points detected in the running variable.\"\n"
     ]
    }
   ],
   "source": [
    "%%R -i df_vol -o vol_rslt\n",
    "\n",
    "library(\"rdrobust\")\n",
    "vol_rslt <- matrix(NaN,3,4)\n",
    "\n",
    "rslt <- rdrobust(y=df_vol$attendance,df_vol$firstyeargpa_centered,cluster=df_vol$studentid,c=0.00001,h=0.365)\n",
    "vol_rslt[1,1] <- rslt$coef[1]\n",
    "vol_rslt[1,2] <- rslt$se[1]\n",
    "vol_rslt[1,3] <- rslt$pv[1]\n",
    "vol_rslt[1,4] <- sum(rslt$N_h)\n",
    "\n",
    "rslt <- rdrobust(y=df_vol$stdgrade,df_vol$firstyeargpa_centered,cluster=df_vol$studentid,c=0.00001,h=0.365)\n",
    "vol_rslt[2,1] <- rslt$coef[1]\n",
    "vol_rslt[2,2] <- rslt$se[1]\n",
    "vol_rslt[2,3] <- rslt$pv[1]\n",
    "vol_rslt[2,4] <- sum(rslt$N_h)\n",
    "\n",
    "rslt <- rdrobust(y=df_vol$passcourse,df_vol$firstyeargpa_centered,cluster=df_vol$studentid,c=0.00001,h=0.365)\n",
    "vol_rslt[3,1] <- rslt$coef[1]\n",
    "vol_rslt[3,2] <- rslt$se[1]\n",
    "vol_rslt[3,3] <- rslt$pv[1]\n",
    "vol_rslt[3,4] <- sum(rslt$N_h)"
   ]
  },
  {
   "cell_type": "code",
   "execution_count": 7,
   "metadata": {
    "scrolled": true
   },
   "outputs": [],
   "source": [
    "vol_rslt = vol_rslt\n",
    "vol_rslt = pd.DataFrame(vol_rslt)\n",
    "\n",
    "### save results as pickle file\n",
    "\n",
    "pd.to_pickle(vol_rslt, \"./vol_rslt_pkl.pkl\")"
   ]
  },
  {
   "cell_type": "markdown",
   "metadata": {},
   "source": [
    "**encouraged courses**"
   ]
  },
  {
   "cell_type": "code",
   "execution_count": 8,
   "metadata": {},
   "outputs": [],
   "source": [
    "df_enc = get_truncated_data(df,\"total range\",1,\"encouraged\")"
   ]
  },
  {
   "cell_type": "code",
   "execution_count": 9,
   "metadata": {},
   "outputs": [
    {
     "name": "stdout",
     "output_type": "stream",
     "text": [
      "[1] \"Mass points detected in the running variable.\"\n",
      "[1] \"Mass points detected in the running variable.\"\n",
      "[1] \"Mass points detected in the running variable.\"\n"
     ]
    }
   ],
   "source": [
    "%%R -i df_enc -o rs\n",
    "\n",
    "library(\"rdrobust\")\n",
    "rs <- matrix(NaN,3,4)\n",
    "\n",
    "rslt <- rdrobust(y=df_enc$attendance,df_enc$firstyeargpa_centered,cluster=df_enc$studentid,c=0.0001,h=0.365)\n",
    "rs[1,1] <- rslt$coef[1]\n",
    "rs[1,2] <- rslt$se[1]\n",
    "rs[1,3] <- rslt$pv[1]\n",
    "rs[1,4] <- sum(rslt$N_h)\n",
    "\n",
    "rslt <- rdrobust(y=df_enc$stdgrade,df_enc$firstyeargpa_centered,cluster=df_enc$studentid,c=0.0001,h=0.365)\n",
    "rs[2,1] <- rslt$coef[1]\n",
    "rs[2,2] <- rslt$se[1]\n",
    "rs[2,3] <- rslt$pv[1]\n",
    "rs[2,4] <- sum(rslt$N_h)\n",
    "\n",
    "rslt <- rdrobust(y=df_enc$passcourse,df_enc$firstyeargpa_centered,cluster=df_enc$studentid,c=0.0001,h=0.365)\n",
    "rs[3,1] <- rslt$coef[1]\n",
    "rs[3,2] <- rslt$se[1]\n",
    "rs[3,3] <- rslt$pv[1]\n",
    "rs[3,4] <- sum(rslt$N_h)"
   ]
  },
  {
   "cell_type": "code",
   "execution_count": 10,
   "metadata": {},
   "outputs": [],
   "source": [
    "enc_rslt = rs\n",
    "enc_rslt = pd.DataFrame(enc_rslt)\n",
    "\n",
    "### save results as pickle file\n",
    "pd.to_pickle(enc_rslt, \"./enc_rslt_pkl.pkl\")"
   ]
  },
  {
   "cell_type": "markdown",
   "metadata": {},
   "source": [
    "**forced courses**"
   ]
  },
  {
   "cell_type": "code",
   "execution_count": 11,
   "metadata": {},
   "outputs": [],
   "source": [
    "df_for = get_truncated_data(df,\"total range\",1,\"forced\")"
   ]
  },
  {
   "cell_type": "code",
   "execution_count": 12,
   "metadata": {},
   "outputs": [
    {
     "name": "stdout",
     "output_type": "stream",
     "text": [
      "[1] \"Mass points detected in the running variable.\"\n",
      "[1] \"Mass points detected in the running variable.\"\n",
      "[1] \"Mass points detected in the running variable.\"\n"
     ]
    }
   ],
   "source": [
    "%%R -i df_for -o rs\n",
    "\n",
    "library(\"rdrobust\")\n",
    "rs <- matrix(NaN,3,4)\n",
    "\n",
    "rslt <- rdrobust(y=df_for$attendance,df_for$firstyeargpa_centered,cluster=df_for$studentid,c=0.0001,h=0.365)\n",
    "rs[1,1] <- rslt$coef[1]\n",
    "rs[1,2] <- rslt$se[1]\n",
    "rs[1,3] <- rslt$pv[1]\n",
    "rs[1,4] <- sum(rslt$N_h)\n",
    "\n",
    "rslt <- rdrobust(y=df_for$stdgrade,df_for$firstyeargpa_centered,cluster=df_for$studentid,c=0.0001,h=0.365)\n",
    "rs[2,1] <- rslt$coef[1]\n",
    "rs[2,2] <- rslt$se[1]\n",
    "rs[2,3] <- rslt$pv[1]\n",
    "rs[2,4] <- sum(rslt$N_h)\n",
    "\n",
    "rslt <- rdrobust(y=df_for$passcourse,df_for$firstyeargpa_centered,cluster=df_for$studentid,c=0.0001,h=0.365)\n",
    "rs[3,1] <- rslt$coef[1]\n",
    "rs[3,2] <- rslt$se[1]\n",
    "rs[3,3] <- rslt$pv[1]\n",
    "rs[3,4] <- sum(rslt$N_h)"
   ]
  },
  {
   "cell_type": "code",
   "execution_count": 13,
   "metadata": {},
   "outputs": [],
   "source": [
    "for_rslt = rs\n",
    "for_rslt = pd.DataFrame(for_rslt)\n",
    "\n",
    "### save results as pickle file\n",
    "pd.to_pickle(for_rslt, \"./for_rslt_pkl.pkl\")"
   ]
  },
  {
   "cell_type": "markdown",
   "metadata": {},
   "source": [
    "# Fakecutoff Test"
   ]
  },
  {
   "cell_type": "markdown",
   "metadata": {},
   "source": [
    "**Cutoff at 6**"
   ]
  },
  {
   "cell_type": "code",
   "execution_count": 14,
   "metadata": {},
   "outputs": [],
   "source": [
    "df_fake6 = get_fakecutoff_val(df,\"voluntary\",6,\"stdgrade\")"
   ]
  },
  {
   "cell_type": "code",
   "execution_count": 15,
   "metadata": {},
   "outputs": [
    {
     "name": "stdout",
     "output_type": "stream",
     "text": [
      "[1] \"Mass points detected in the running variable.\"\n"
     ]
    }
   ],
   "source": [
    "%%R -i df_fake6 -o rs\n",
    "\n",
    "library(\"rdrobust\")\n",
    "rs <- matrix(NaN,1,3)\n",
    "\n",
    "rslt <- rdrobust(y=df_fake6$stdgrade,df_fake6$X_fake,cluster=df_fake6$studentid,c=0,h=0.365)\n",
    "rs[1,1] <- 6\n",
    "rs[1,2] <- rslt$coef[1]\n",
    "rs[1,3] <- rslt$pv[1]\n"
   ]
  },
  {
   "cell_type": "code",
   "execution_count": 16,
   "metadata": {},
   "outputs": [],
   "source": [
    "rslt6 = rs"
   ]
  },
  {
   "cell_type": "markdown",
   "metadata": {},
   "source": [
    "**Cutoff at 8**"
   ]
  },
  {
   "cell_type": "code",
   "execution_count": 17,
   "metadata": {},
   "outputs": [],
   "source": [
    "df_fake8 = get_fakecutoff_val(df,\"voluntary\",8,\"stdgrade\")"
   ]
  },
  {
   "cell_type": "code",
   "execution_count": 18,
   "metadata": {},
   "outputs": [
    {
     "name": "stdout",
     "output_type": "stream",
     "text": [
      "[1] \"Mass points detected in the running variable.\"\n"
     ]
    }
   ],
   "source": [
    "%%R -i df_fake8 -o rs\n",
    "\n",
    "library(\"rdrobust\")\n",
    "rs <- matrix(NaN,1,3)\n",
    "\n",
    "rslt <- rdrobust(y=df_fake8$stdgrade,df_fake8$X_fake,cluster=df_fake8$studentid,c=0,h=0.365)\n",
    "rs[1,1] <- 8\n",
    "rs[1,2] <- rslt$coef[1]\n",
    "rs[1,3] <- rslt$pv[1]"
   ]
  },
  {
   "cell_type": "code",
   "execution_count": 19,
   "metadata": {},
   "outputs": [],
   "source": [
    "rslt8 = rs"
   ]
  },
  {
   "cell_type": "markdown",
   "metadata": {},
   "source": [
    "**Cutoff at 8.25**"
   ]
  },
  {
   "cell_type": "code",
   "execution_count": 20,
   "metadata": {},
   "outputs": [],
   "source": [
    "df_fake825 = get_fakecutoff_val(df,\"voluntary\",8.25,\"stdgrade\")"
   ]
  },
  {
   "cell_type": "code",
   "execution_count": 21,
   "metadata": {},
   "outputs": [
    {
     "name": "stdout",
     "output_type": "stream",
     "text": [
      "[1] \"Mass points detected in the running variable.\"\n"
     ]
    }
   ],
   "source": [
    "%%R -i df_fake825 -o rs\n",
    "\n",
    "library(\"rdrobust\")\n",
    "rs <- matrix(NaN,1,3)\n",
    "\n",
    "rslt <- rdrobust(y=df_fake825$stdgrade,df_fake825$X_fake,cluster=df_fake825$studentid,c=0,h=0.365)\n",
    "rs[1,1] <- 8.25\n",
    "rs[1,2] <- rslt$coef[1]\n",
    "rs[1,3] <- rslt$pv[1]"
   ]
  },
  {
   "cell_type": "code",
   "execution_count": 22,
   "metadata": {},
   "outputs": [],
   "source": [
    "rslt825 = rs"
   ]
  },
  {
   "cell_type": "markdown",
   "metadata": {},
   "source": [
    "**Cutoff at 9**"
   ]
  },
  {
   "cell_type": "code",
   "execution_count": 23,
   "metadata": {},
   "outputs": [],
   "source": [
    "df_fake9 = get_fakecutoff_val(df,\"voluntary\",9,\"stdgrade\")"
   ]
  },
  {
   "cell_type": "code",
   "execution_count": 24,
   "metadata": {},
   "outputs": [
    {
     "name": "stdout",
     "output_type": "stream",
     "text": [
      "[1] \"Mass points detected in the running variable.\"\n"
     ]
    }
   ],
   "source": [
    "%%R -i df_fake9 -o rs\n",
    "\n",
    "library(\"rdrobust\")\n",
    "rs <- matrix(NaN,1,3)\n",
    "\n",
    "rslt <- rdrobust(y=df_fake9$stdgrade,df_fake9$X_fake,cluster=df_fake9$studentid,c=0,h=0.365)\n",
    "rs[1,1] <- 9\n",
    "rs[1,2] <- rslt$coef[1]\n",
    "rs[1,3] <- rslt$pv[1]"
   ]
  },
  {
   "cell_type": "code",
   "execution_count": 25,
   "metadata": {},
   "outputs": [],
   "source": [
    "rslt9 = rs"
   ]
  },
  {
   "cell_type": "code",
   "execution_count": 26,
   "metadata": {},
   "outputs": [],
   "source": [
    "### Collect all the results\n",
    "\n",
    "rslt_fake_r = np.vstack((rslt6,rslt8,rslt825,rslt9))"
   ]
  },
  {
   "cell_type": "code",
   "execution_count": 27,
   "metadata": {},
   "outputs": [],
   "source": [
    "### save results as pickle file\n",
    "\n",
    "pd.to_pickle(rslt_fake_r, \"./rslt_fake_r_pkl.pkl\")"
   ]
  },
  {
   "cell_type": "code",
   "execution_count": null,
   "metadata": {},
   "outputs": [],
   "source": []
  },
  {
   "cell_type": "code",
   "execution_count": null,
   "metadata": {},
   "outputs": [],
   "source": []
  },
  {
   "cell_type": "code",
   "execution_count": null,
   "metadata": {},
   "outputs": [],
   "source": []
  },
  {
   "cell_type": "code",
   "execution_count": null,
   "metadata": {},
   "outputs": [],
   "source": []
  }
 ],
 "metadata": {
  "kernelspec": {
   "display_name": "Python 3",
   "language": "python",
   "name": "python3"
  },
  "language_info": {
   "codemirror_mode": {
    "name": "ipython",
    "version": 3
   },
   "file_extension": ".py",
   "mimetype": "text/x-python",
   "name": "python",
   "nbconvert_exporter": "python",
   "pygments_lexer": "ipython3",
   "version": "3.7.3"
  }
 },
 "nbformat": 4,
 "nbformat_minor": 2
}

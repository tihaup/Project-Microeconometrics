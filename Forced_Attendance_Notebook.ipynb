{
 "cells": [
  {
   "cell_type": "markdown",
   "metadata": {},
   "source": [
    "--- \n",
    "Project in Microeconometrics / OSE Data Science | Summer 2021, M.Sc. Economics, Bonn University | Timo Haupt\n",
    "\n",
    "# Replication of \"The Price of Forced Attendance\" by S. Kapoor, M. Oosterveen and D. Webbink (2020)\n",
    "\n",
    "---"
   ]
  },
  {
   "cell_type": "markdown",
   "metadata": {},
   "source": [
    "## Notes before reading or running this notebook\n",
    "---\n",
    "\n",
    "* As the final project of the Data Science Course I replicated the paper \"The Price of Forced Attendance\" by Kapoor, Oosterveen and Webbink (Journal of Applied Econometrics, Volume 36, Issue 2, March 2020, pp. 209-227).\n",
    "The pdf-file of this paper can be downloaded [here](https://onlinelibrary.wiley.com/doi/10.1002/jae.2781).\n",
    "\n",
    "\n",
    "* Do-File (for Stata) and Online-Appendix can be found [here](http://qed.econ.queensu.ca/jae/datasets/kapoor001/).\n",
    "\n",
    "\n",
    "* The Data Set has not been provided by the authors in the publication and is also not available otherwise on the internet. In order to receive the data I had to send a request to the authors and state my replication motivation. For data protection reasons the authors didn't provide me their complete data set. So, my replication is based on the data set the authors were able to provide me with. This replication data set can be found in the [data-folder](https://github.com/OpenSourceEconomics/ose-data-science-course-projeect-tihaup/tree/master/data). Since it still contains private information like grades about students and it had to be requested privately from the authors, I ask you to not further distribute the data set and only use it to run this notebook.\n",
    "\n",
    "\n",
    "* Since NBViewer and Mybinder may struggle with displaying the imported images, it might be best to download the entire repository from Github. Otherwise, the images can be found in this [folder](https://github.com/OpenSourceEconomics/ose-data-science-course-projeect-tihaup/tree/master/files) on Github.\n",
    "\n",
    "\n",
    "* Whenever I replicated tables and figures directly from the paper, this has been clearly marked as \"replication\". Therefore, I stuck with the labels of the original tables and figures from the paper, in order to simplify the comparison between my work and the author's. All other tables and figures represent my independent contribution to the paper and are labeled accordingly.\n",
    "\n",
    "\n",
    "* Certain parts have been only possible to replicate using a robust regression discontinuity function, that hasn't been implemented in python yet. That's why I had to estimate some results in the \"R_magic\" notebook that can be found in the [cache-folder](https://github.com/OpenSourceEconomics/ose-data-science-course-projeect-tihaup/tree/master/cache). In order to get the Continuous Integration workflow running I had to import these results into the main notebook, since the Kernel had died multiple times otherwise. Therefore, if you want to run this notebook, you have to check the [R_magic notebook](https://github.com/OpenSourceEconomics/ose-data-science-course-projeect-tihaup/blob/master/cache/R_magic.ipynb) and load an R environment, where stated, accordingly. \n",
    "\n",
    "---"
   ]
  },
  {
   "cell_type": "markdown",
   "metadata": {},
   "source": [
    "### Table of Content\n",
    "\n",
    "1. [Introduction](#introduction)\n",
    "2. [Data](#data)\n",
    "    * [Data Description](#data1)\n",
    "    * [Descriptive Statistics](#data2)\n",
    "3. [Identification Strategy & Empirical Approach](#identification)\n",
    "   * [Regression Discontinuity Design](#identification1)\n",
    "   * [Discussion of continuity assumption](#identification2)  \n",
    "   * [Mass Points](#identification3)  \n",
    "4. [Replication of Baseline Results](#baseline)\n",
    "   * [Average Treatment Effect Estimates](#baseline1)\n",
    "   * [Heterogeneous Average Treatment Effect Estimates](#baseline2)\n",
    "5. [Robustness Checks](#robustness)\n",
    "   * [Comparison Abolition Cohort](#robustness1)\n",
    "   * [Discussion of Mechanisms](#robustness2)\n",
    "   * [Fake Cutoff Test](#fakecutoff) \n",
    "6. [Independent Contributions](#independent)\n",
    "   * [Local Linear Regression Estimates](#contribution1)\n",
    "   * [Local Polynomial Regression Estimates](#contribution2)\n",
    "   * [Sensitivity Analysis of Bandwidth Choice](#contribution3)\n",
    "6. [Conclusion](#conclusion)\n",
    "7. [References](#references)\n",
    "\n",
    "---"
   ]
  },
  {
   "cell_type": "markdown",
   "metadata": {},
   "source": [
    "### Imported Libraries"
   ]
  },
  {
   "cell_type": "code",
   "execution_count": 1,
   "metadata": {},
   "outputs": [],
   "source": [
    "import pandas as pd\n",
    "import os                               \n",
    "import seaborn as sns\n",
    "import matplotlib.pyplot as plt\n",
    "import numpy as np\n",
    "from stargazer.stargazer import Stargazer\n",
    "from scipy.stats import ttest_ind\n",
    "from tabulate import tabulate\n",
    "import statsmodels.formula.api as smf\n",
    "import tzlocal\n",
    "import warnings\n",
    "warnings.filterwarnings('ignore')\n",
    "import pickle as pkl\n",
    "\n",
    "\n",
    "pd.options.display.float_format = \"{:,.3f}\".format"
   ]
  },
  {
   "cell_type": "code",
   "execution_count": 2,
   "metadata": {},
   "outputs": [],
   "source": [
    "from auxiliary.auxiliary_attendance_datasets import *\n",
    "from auxiliary.auxiliary_attendance_tables import *\n",
    "from auxiliary.auxiliary_attendance_plots import *"
   ]
  },
  {
   "cell_type": "markdown",
   "metadata": {},
   "source": [
    "# (1.) Introduction <a name=\"introduction\"></a>\n",
    "\n",
    "\n",
    "Kapoor et al. (2020) \"estimate the causal effect on additional structure on academic performance\" by taking advantage of a forced tutorial attendance policy in an undergraduate Economics program at a large university in the Netherlands. \n",
    "The policy made tutorial attendance compulsary throughout the second year of the program for those students that had a GPA below 7 in the first year. \n",
    "Since the treatment assignment was based on a sharp threshold (first-year GPA of 7), Kapoor et al. (2020) decided to estimate the treatment effect using a Regression Discontinuity Design. \n",
    "They \"show that the policy increases student attendance but has no average effect on grades\". Though, second-year courses differed in how above-7 (untreated) students had to attend the tutorials. There are three types of courses: \n",
    "\n",
    "* $voluntary$: above-7 students can choose to attend tutorials as they wish.\n",
    "\n",
    "* $encouraged$: above-7 students were \"strongly encouraged\" to attend tutorials.\n",
    "\n",
    "* $forced$: above-7 students had to attend tutorials and to hand in  assignments which contributed to their final grade.\n",
    "\n",
    "One of the main findings of the paper is that the effect on grades within voluntary courses has been significantly negative. Kapoor et al. (2020) argue that the forced policy was expected to have a positive effect on grades, since it gives students additional structure in their academic life. But their findings \"suggest that grades decrease in these [voluntary] courses because the policy prevented forced students from picking their desired mix of study inputs\" and therefore imposing further constraints on their choices. \n",
    "\n",
    "In the next Chapter, I will describe the data set and give basic descriptives of the data around the cutoff. Chapter 3 will introduce the identification strategy of the Regression Discontinuity Design and the important continuity assumption will be discussed. The baseline results of the paper will be replicated in Chapter 4 and further robustness checks will be conducted in Chapter 5. In Chapter 6 I will provide some independent extensions to the paper and finally I will conclude this notebook in Chapter 7. "
   ]
  },
  {
   "cell_type": "markdown",
   "metadata": {},
   "source": [
    "# (2.) Data <a name=\"data\"></a>\n",
    "\n",
    "### Data Description <a name=\"data1\"></a>"
   ]
  },
  {
   "cell_type": "markdown",
   "metadata": {},
   "source": [
    "In order to receive the data set I had to get in contact with the authors and describe my research motivation of replicating their paper. They send me their data set, but unfortunately all the students' individual characteristics have not been made available. Therefore, I was only able to replicate the main findings of the paper where those characteristics have not been used as control variables. \n",
    "\n",
    "The running variable for the Regression Discontinuity Design is $firstyeargpa$ which assigns students into treatment ($treat = 1$) if their GPA was below 7. The $cohort$ variable indicates if the forced attendance policy has been active ($cohort \\in [1,5]$) or if it has been abolished ($cohort = 6$). The attendance policies for above-7 students are represented in the variable $coursepolicy \\in \\{voluntary, encouraged, forced\\}$. \n",
    "The main outcome variables are second-year grades ($grade$), respectively standardized second-year grades ($stdgrade$), tutorial attendance rate ($attendance$) and if a course has been passed ($passcourse = 1$). Note that the variables $firstyeargpa_centered$, $treat$ and $passcourse$ have been created by me.\n",
    "\n",
    "\n",
    "**Variables included in the underlying data set:**"
   ]
  },
  {
   "cell_type": "code",
   "execution_count": 3,
   "metadata": {},
   "outputs": [],
   "source": [
    "### Importing the Data Set\n",
    "df = get_data()"
   ]
  },
  {
   "cell_type": "code",
   "execution_count": 4,
   "metadata": {},
   "outputs": [
    {
     "data": {
      "text/html": [
       "<style  type=\"text/css\" >\n",
       "</style><table id=\"T_50060280_e8a6_11eb_aabf_34415d26d198\" ><thead>    <tr>        <th class=\"col_heading level0 col0\" >Variable</th>        <th class=\"col_heading level0 col1\" >Type</th>        <th class=\"col_heading level0 col2\" >Description</th>    </tr></thead><tbody>\n",
       "                <tr>\n",
       "                                <td id=\"T_50060280_e8a6_11eb_aabf_34415d26d198row0_col0\" class=\"data row0 col0\" >studentid</td>\n",
       "                        <td id=\"T_50060280_e8a6_11eb_aabf_34415d26d198row0_col1\" class=\"data row0 col1\" >float32</td>\n",
       "                        <td id=\"T_50060280_e8a6_11eb_aabf_34415d26d198row0_col2\" class=\"data row0 col2\" >unique student identifier</td>\n",
       "            </tr>\n",
       "            <tr>\n",
       "                                <td id=\"T_50060280_e8a6_11eb_aabf_34415d26d198row1_col0\" class=\"data row1 col0\" >cohort</td>\n",
       "                        <td id=\"T_50060280_e8a6_11eb_aabf_34415d26d198row1_col1\" class=\"data row1 col1\" >int16</td>\n",
       "                        <td id=\"T_50060280_e8a6_11eb_aabf_34415d26d198row1_col2\" class=\"data row1 col2\" >cohorts ranging from 2008 to 2014</td>\n",
       "            </tr>\n",
       "            <tr>\n",
       "                                <td id=\"T_50060280_e8a6_11eb_aabf_34415d26d198row2_col0\" class=\"data row2 col0\" >coursepolicy</td>\n",
       "                        <td id=\"T_50060280_e8a6_11eb_aabf_34415d26d198row2_col1\" class=\"data row2 col1\" >object</td>\n",
       "                        <td id=\"T_50060280_e8a6_11eb_aabf_34415d26d198row2_col2\" class=\"data row2 col2\" >attendance policy for above-7 students</td>\n",
       "            </tr>\n",
       "            <tr>\n",
       "                                <td id=\"T_50060280_e8a6_11eb_aabf_34415d26d198row3_col0\" class=\"data row3 col0\" >grade</td>\n",
       "                        <td id=\"T_50060280_e8a6_11eb_aabf_34415d26d198row3_col1\" class=\"data row3 col1\" >float64</td>\n",
       "                        <td id=\"T_50060280_e8a6_11eb_aabf_34415d26d198row3_col2\" class=\"data row3 col2\" >second-year grades</td>\n",
       "            </tr>\n",
       "            <tr>\n",
       "                                <td id=\"T_50060280_e8a6_11eb_aabf_34415d26d198row4_col0\" class=\"data row4 col0\" >stdgrade</td>\n",
       "                        <td id=\"T_50060280_e8a6_11eb_aabf_34415d26d198row4_col1\" class=\"data row4 col1\" >float32</td>\n",
       "                        <td id=\"T_50060280_e8a6_11eb_aabf_34415d26d198row4_col2\" class=\"data row4 col2\" >second-year grades standardized</td>\n",
       "            </tr>\n",
       "            <tr>\n",
       "                                <td id=\"T_50060280_e8a6_11eb_aabf_34415d26d198row5_col0\" class=\"data row5 col0\" >stdgradeabolition</td>\n",
       "                        <td id=\"T_50060280_e8a6_11eb_aabf_34415d26d198row5_col1\" class=\"data row5 col1\" >float32</td>\n",
       "                        <td id=\"T_50060280_e8a6_11eb_aabf_34415d26d198row5_col2\" class=\"data row5 col2\" >stdgrade of the abolition cohort</td>\n",
       "            </tr>\n",
       "            <tr>\n",
       "                                <td id=\"T_50060280_e8a6_11eb_aabf_34415d26d198row6_col0\" class=\"data row6 col0\" >attendance</td>\n",
       "                        <td id=\"T_50060280_e8a6_11eb_aabf_34415d26d198row6_col1\" class=\"data row6 col1\" >float32</td>\n",
       "                        <td id=\"T_50060280_e8a6_11eb_aabf_34415d26d198row6_col2\" class=\"data row6 col2\" >attendance rate of tutorials</td>\n",
       "            </tr>\n",
       "            <tr>\n",
       "                                <td id=\"T_50060280_e8a6_11eb_aabf_34415d26d198row7_col0\" class=\"data row7 col0\" >firstyeargpa</td>\n",
       "                        <td id=\"T_50060280_e8a6_11eb_aabf_34415d26d198row7_col1\" class=\"data row7 col1\" >float32</td>\n",
       "                        <td id=\"T_50060280_e8a6_11eb_aabf_34415d26d198row7_col2\" class=\"data row7 col2\" >first-year average grade</td>\n",
       "            </tr>\n",
       "            <tr>\n",
       "                                <td id=\"T_50060280_e8a6_11eb_aabf_34415d26d198row8_col0\" class=\"data row8 col0\" >treat</td>\n",
       "                        <td id=\"T_50060280_e8a6_11eb_aabf_34415d26d198row8_col1\" class=\"data row8 col1\" >int64</td>\n",
       "                        <td id=\"T_50060280_e8a6_11eb_aabf_34415d26d198row8_col2\" class=\"data row8 col2\" >indicator if first-year gpa was below 7</td>\n",
       "            </tr>\n",
       "            <tr>\n",
       "                                <td id=\"T_50060280_e8a6_11eb_aabf_34415d26d198row9_col0\" class=\"data row9 col0\" >firstyeargpa_centered</td>\n",
       "                        <td id=\"T_50060280_e8a6_11eb_aabf_34415d26d198row9_col1\" class=\"data row9 col1\" >float32</td>\n",
       "                        <td id=\"T_50060280_e8a6_11eb_aabf_34415d26d198row9_col2\" class=\"data row9 col2\" >first-year average grade centered around 7</td>\n",
       "            </tr>\n",
       "            <tr>\n",
       "                                <td id=\"T_50060280_e8a6_11eb_aabf_34415d26d198row10_col0\" class=\"data row10 col0\" >passcourse</td>\n",
       "                        <td id=\"T_50060280_e8a6_11eb_aabf_34415d26d198row10_col1\" class=\"data row10 col1\" >int64</td>\n",
       "                        <td id=\"T_50060280_e8a6_11eb_aabf_34415d26d198row10_col2\" class=\"data row10 col2\" >indicator if a second-year course was passed</td>\n",
       "            </tr>\n",
       "    </tbody></table>"
      ],
      "text/plain": [
       "<pandas.io.formats.style.Styler at 0x1f913f29cc0>"
      ]
     },
     "execution_count": 4,
     "metadata": {},
     "output_type": "execute_result"
    }
   ],
   "source": [
    "get_variable_description(df)"
   ]
  },
  {
   "cell_type": "markdown",
   "metadata": {},
   "source": [
    "### Basic Descriptives  <a name=\"data2\"></a>\n",
    "\n",
    "**Replication of Table 1**\n",
    "\n",
    "Table 1 compares the basic statistics of students below and above a first-year GPA of 7. Since the forced attendance policy only affected those students below 7, these students represent the treatment group.\n",
    "Eventhough we restrict the data within a bandwidth of 0.365 around the first-year GPA cutoff of 7, we can find some highly significant differences between the treatment and control group. First, those being treated got on average lower grades in the second year and even significantly lower grades, though being close to their peers above first-year GPA of 7. Second, those in the treatment group had an average tutorial attendance rate of 90% compared to 77% in the group not affected by the attendance policy. \n",
    "Furthermore, the comparison of all the student's individual characteristics, including distance to university, age, gender, etc. shows that there are no significant differences on observables. "
   ]
  },
  {
   "cell_type": "code",
   "execution_count": 5,
   "metadata": {},
   "outputs": [],
   "source": [
    "### Data Set restricted to optimal bandwidth\n",
    "\n",
    "optimal_bandwidth = 0.365\n",
    "df1 = get_truncated_data(df,optimal_bandwidth,1,\"all courses\")"
   ]
  },
  {
   "cell_type": "code",
   "execution_count": 6,
   "metadata": {},
   "outputs": [
    {
     "name": "stdout",
     "output_type": "stream",
     "text": [
      "╒══════════════════════════════════╤════════════════╤═════════════╤══════════════╤═══════════╕\n",
      "│ Variable   |   First-year GPA:   │  [6.635,7.0]   │ [7,7.365]   │ Difference   │ p-value   │\n",
      "╞══════════════════════════════════╪════════════════╪═════════════╪══════════════╪═══════════╡\n",
      "│ Course level (second year)       │                │             │              │           │\n",
      "├──────────────────────────────────┼────────────────┼─────────────┼──────────────┼───────────┤\n",
      "│ Grade                            │                │             │              │           │\n",
      "├──────────────────────────────────┼────────────────┼─────────────┼──────────────┼───────────┤\n",
      "│ mean                             │ 6.326          │ 6.806       │ 0.48         │ 0.0       │\n",
      "├──────────────────────────────────┼────────────────┼─────────────┼──────────────┼───────────┤\n",
      "│ standard deviation               │ 1.328          │ 1.19        │              │           │\n",
      "├──────────────────────────────────┼────────────────┼─────────────┼──────────────┼───────────┤\n",
      "│                                  │                │             │              │           │\n",
      "├──────────────────────────────────┼────────────────┼─────────────┼──────────────┼───────────┤\n",
      "│ Tutorial attendance              │                │             │              │           │\n",
      "├──────────────────────────────────┼────────────────┼─────────────┼──────────────┼───────────┤\n",
      "│ mean                             │ 0.901          │ 0.771       │ -0.13        │ 0.0       │\n",
      "├──────────────────────────────────┼────────────────┼─────────────┼──────────────┼───────────┤\n",
      "│ standard deviation               │ 0.117          │ 0.293       │              │           │\n",
      "├──────────────────────────────────┼────────────────┼─────────────┼──────────────┼───────────┤\n",
      "│                                  │                │             │              │           │\n",
      "├──────────────────────────────────┼────────────────┼─────────────┼──────────────┼───────────┤\n",
      "│ Observations                     │ 1827           │ 1758        │ 3585         │           │\n",
      "╘══════════════════════════════════╧════════════════╧═════════════╧══════════════╧═══════════╛\n"
     ]
    }
   ],
   "source": [
    "get_table1(df1,0.365)"
   ]
  },
  {
   "cell_type": "markdown",
   "metadata": {},
   "source": [
    "Restricting the data further by decreasing the bandwidth around the cutoff to 0.1 does not change a lot. The difference in grade means decreases as expected but stays highly significant. No change at all can be observed for the difference in tutorial attendance. \n",
    "This is a clear hint, that we have significant differences when crossing the cutoff at 7, even when being very close to it and thus indicating an effect on grades and attendance rate by the course policy. "
   ]
  },
  {
   "cell_type": "code",
   "execution_count": 7,
   "metadata": {
    "scrolled": false
   },
   "outputs": [
    {
     "name": "stdout",
     "output_type": "stream",
     "text": [
      "╒══════════════════════════════════╤══════════════╤═══════════╤══════════════╤═══════════╕\n",
      "│ Variable   |   First-year GPA:   │  [6.9,7.0]   │ [7,7.1]   │ Difference   │ p-value   │\n",
      "╞══════════════════════════════════╪══════════════╪═══════════╪══════════════╪═══════════╡\n",
      "│ Course level (second year)       │              │           │              │           │\n",
      "├──────────────────────────────────┼──────────────┼───────────┼──────────────┼───────────┤\n",
      "│ Grade                            │              │           │              │           │\n",
      "├──────────────────────────────────┼──────────────┼───────────┼──────────────┼───────────┤\n",
      "│ mean                             │ 6.495        │ 6.715     │ 0.22         │ 0.002     │\n",
      "├──────────────────────────────────┼──────────────┼───────────┼──────────────┼───────────┤\n",
      "│ standard deviation               │ 1.251        │ 1.222     │              │           │\n",
      "├──────────────────────────────────┼──────────────┼───────────┼──────────────┼───────────┤\n",
      "│                                  │              │           │              │           │\n",
      "├──────────────────────────────────┼──────────────┼───────────┼──────────────┼───────────┤\n",
      "│ Tutorial attendance              │              │           │              │           │\n",
      "├──────────────────────────────────┼──────────────┼───────────┼──────────────┼───────────┤\n",
      "│ mean                             │ 0.898        │ 0.767     │ -0.131       │ 0.0       │\n",
      "├──────────────────────────────────┼──────────────┼───────────┼──────────────┼───────────┤\n",
      "│ standard deviation               │ 0.13         │ 0.298     │              │           │\n",
      "├──────────────────────────────────┼──────────────┼───────────┼──────────────┼───────────┤\n",
      "│                                  │              │           │              │           │\n",
      "├──────────────────────────────────┼──────────────┼───────────┼──────────────┼───────────┤\n",
      "│ Observations                     │ 619          │ 574       │ 1193         │           │\n",
      "╘══════════════════════════════════╧══════════════╧═══════════╧══════════════╧═══════════╛\n"
     ]
    }
   ],
   "source": [
    "### Independent Extension: restrict data to bandwidth of 0.1:\n",
    "\n",
    "df2 = get_truncated_data(df,0.1,1,\"all courses\")\n",
    "get_table1(df2,0.1)"
   ]
  },
  {
   "cell_type": "markdown",
   "metadata": {},
   "source": [
    "# (3.) Identification Strategy and Empirical Approach  <a name=\"identification\"></a>"
   ]
  },
  {
   "cell_type": "markdown",
   "metadata": {},
   "source": [
    "### Regression Discontinuity Design  <a name=\"identification1\"></a>\n",
    "\n",
    "The method of Regression Discontinuity fits very well for this identification problem, since we have a clear threshold that determines the assignment of treatment. If a student has a GPA, an average grade, below 7 after the first year, he/she receives the treatment, that is attendance in tutorial sessions becomes compulsary. On the other hand, for above-7 students there are three different attendance policies that can be applied, depending on the coursetype. \n",
    "\n"
   ]
  },
  {
   "cell_type": "markdown",
   "metadata": {},
   "source": [
    "This following representation of the Regression Discontinuity Design is inspired by Chapter 6 of \"Causal Inference: The Mixtape\" by Scott Cunningham. The first graph displays the intitial setting, where we have the running variable \"first-year GPA\" that assigns students into treatment and control group. Simultaneously, GPA in the first year will almost surely have an impact on the grades attained in the second year. The problem why other identification stragies might fail here, is that first, unobservables are in the background affecting first-year GPA and grades in the second-year, and second, first-year GPA affects treatment assignment and second-year grades as well. Therefore, we can't simply condition on the first-year GPA, since it's a confounder variable.\n",
    "\n",
    "**Causal Graph**"
   ]
  },
  {
   "cell_type": "markdown",
   "metadata": {},
   "source": [
    "![Causal Graph 1](files/causal_graph1_2.png)"
   ]
  },
  {
   "cell_type": "markdown",
   "metadata": {},
   "source": [
    "The reason why RDD is an adequate identification strategy here is that we can restrict the analysis of the treatment effect to a very narrow area around the cutoff that determines treatment assignment. That is if we can assume that the running variable \"first-year GPA\" is continuous around the cutoff, we can only consider the difference of conditional expectations in the limiting case around the cutoff. \n",
    "The continuity assumption plays an important role in this setting and the adherence of this assumption will be discussed below in this section.\n",
    "\n",
    "Under the assumption of continuity at the cutoff and considering the limiting case, the causal graph simplifies such that first-year GPA only affects treatment assignment and is completely unaffected by unobservables and observables. This holds as long as there is no other influence of any observable or unobservable variable that might also create a change in second-year grades right at the cutoff. Kapoor et al. (2020) argue that at least there are no other observables that might cause trouble here. In Table 2 of the paper, which I can't replicate because of missing data, they show that \"students to the left and right of the cutoff are similar in whether they come from the European Economic Area, age, distance from the university (in kilometers), and high school GPA\" (p.216). Therefore, students just above and below the cutoff differ in no observable and unobservable characteristic except the treatment assignment. Note that in the limiting case \"first-year GPA\" does not directly affect second-year grades anymore, since by our assumptions and in the limiting case  there would be no different effect on second-year grades between above-7 and below-7 students without this treatment consequence.\n",
    "\n",
    "\n",
    "**Causal Graph in the limiting case:**"
   ]
  },
  {
   "cell_type": "markdown",
   "metadata": {},
   "source": [
    "![Causal Graph 2](files/causal_graph2_2.png)"
   ]
  },
  {
   "cell_type": "markdown",
   "metadata": {},
   "source": [
    "If all of this holds true, the (local) average treatment effect can be identified by \n",
    "\n",
    "$$\n",
    "\\tau = lim_{x \\rightarrow ^{-}7} E[G_j | GPA = x] - lim_{x \\rightarrow ^{+}7} E[G_j | GPA = x] ,  \n",
    "$$\n",
    "\n",
    "where $G_j$ denotes the second-year grade. In order to estimate $\\tau$ the following regression specification is used\n",
    "\n",
    "$$\n",
    "G_{ij} = \\beta_0 + \\beta_1 D_i+ f_+ (GPA_i - 7) + f_- (GPA_i - 7) D_i + \\epsilon_{ij} ,\n",
    "$$\n",
    "\n",
    "where $f$ are normalized linear polynomials in $firstyeargpa$.\n",
    "\n",
    "Note that the goal of implementing this forced attendance policy for below-7 students was to increase their grades in the second year, which should suggest an Average Treatment Effect of $\\tau > 0 $. Kapoor et al. (2020) argue that the \"constraining effects of this policy on choices suggest $\\tau < 0\"$. "
   ]
  },
  {
   "cell_type": "markdown",
   "metadata": {},
   "source": [
    "### Discussion of continuity assumption <a name=\"identification2\"></a>\n",
    "\n",
    "**Possible violations of this assumption** \n",
    "\n",
    "The continuity assumption is violated if students are able to manipulate the treatment assignment close to the cutoff. The question to discuss is therefore, can students decide whether to be just above or below a first-year GPA of 7? \n",
    "I came up with some qualitative arguments in contrast and in favor of this assumption. \n",
    "One argument why the continuity assumption might fail is that there could be some lazy but exceptionally smart students just below the cutoff. Since those students are lazy, they would strictly prefer to avoid forced attendance in all of the second year courses. Therefore, they optimally invest more effort in the last exams of the first year in order to increase their GPA to just reach the threshold of 7. Another argument might be that students in the first semester have to deal with a whole new situation (new university life, new city, new friends, etc.) when starting the program and then towards the end of the first year realizing that there is a GPA cutoff that needs to be satisfied. If one or both of these arguments were true, we would observe a bunching of students just above 7. On the other hand, one could argue that students at university try to perform as well as possible in order to acquire good chances on the future job market. That would implicate a randomized density of students just around the cutoff, since everyone puts maximal effort into their first-year grades after all. Kapoor et al. (2020) reason that, since the GPA is an averaged grade, \"as students accumulate grades they lose control over the average\". \n",
    "\n",
    "**Histogram and Density** \n",
    "\n",
    "Now we want to check if we can find some irregularities just around the cutoff, in particular if we can find a significantly higher amount of students just above the treatment cutoff compared to those that have been assigned to treatment. For graphical purposes Kapoor et al. (2020) use a bandwidth of 0.5 and therefore including students with a first-year GPA between 6.5 and 7.5. Since there are multiple grade and attendance entries for each student and we want to compare the frequencies of students with certain first-year GPAs around the cutoff, we first need to get rid of all multiple entries by just keeping one entry per student. So, I create a new data set obtaining only the student's id and first-year GPA value, using my collect_each_student function. \n",
    "\n",
    "To get a first visual validity check of the continuity assumption, the first two graphs depict the frequencies of first-year GPA values as histograms. For the first graph the number of bins between 6.5 and 7.5 has been set to 20. In the second graph the number of bins has been increased to 30 and additionally a Kernel Distribution Estimation has been applied. Both graphs show that there is no significantly higher amount of students with a first-year GPA just above 7, which indicates that students close to the cutoff cannot somehow manipulate the treatment assignment by self-selecting into the untreated group. "
   ]
  },
  {
   "cell_type": "code",
   "execution_count": 8,
   "metadata": {
    "scrolled": true
   },
   "outputs": [
    {
     "data": {
      "text/html": [
       "<div>\n",
       "<style scoped>\n",
       "    .dataframe tbody tr th:only-of-type {\n",
       "        vertical-align: middle;\n",
       "    }\n",
       "\n",
       "    .dataframe tbody tr th {\n",
       "        vertical-align: top;\n",
       "    }\n",
       "\n",
       "    .dataframe thead th {\n",
       "        text-align: right;\n",
       "    }\n",
       "</style>\n",
       "<table border=\"1\" class=\"dataframe\">\n",
       "  <thead>\n",
       "    <tr style=\"text-align: right;\">\n",
       "      <th></th>\n",
       "      <th>studentid</th>\n",
       "      <th>firstyeargpa</th>\n",
       "    </tr>\n",
       "  </thead>\n",
       "  <tbody>\n",
       "    <tr>\n",
       "      <th>0</th>\n",
       "      <td>3.000</td>\n",
       "      <td>7.036</td>\n",
       "    </tr>\n",
       "    <tr>\n",
       "      <th>1</th>\n",
       "      <td>4.000</td>\n",
       "      <td>7.074</td>\n",
       "    </tr>\n",
       "    <tr>\n",
       "      <th>2</th>\n",
       "      <td>12.000</td>\n",
       "      <td>6.507</td>\n",
       "    </tr>\n",
       "    <tr>\n",
       "      <th>3</th>\n",
       "      <td>13.000</td>\n",
       "      <td>6.596</td>\n",
       "    </tr>\n",
       "    <tr>\n",
       "      <th>4</th>\n",
       "      <td>15.000</td>\n",
       "      <td>7.070</td>\n",
       "    </tr>\n",
       "  </tbody>\n",
       "</table>\n",
       "</div>"
      ],
      "text/plain": [
       "   studentid  firstyeargpa\n",
       "0      3.000         7.036\n",
       "1      4.000         7.074\n",
       "2     12.000         6.507\n",
       "3     13.000         6.596\n",
       "4     15.000         7.070"
      ]
     },
     "execution_count": 8,
     "metadata": {},
     "output_type": "execute_result"
    }
   ],
   "source": [
    "### data set within bandwidth of 0.5\n",
    "\n",
    "df3 = get_truncated_data(df,0.5,1,\"all courses\")\n",
    "\n",
    "df3 = collect_each_student(df3)\n",
    "df3.head()"
   ]
  },
  {
   "cell_type": "code",
   "execution_count": 9,
   "metadata": {},
   "outputs": [
    {
     "data": {
      "image/png": "[encoded data removed]",
      "text/plain": [
       "<Figure size 720x432 with 1 Axes>"
      ]
     },
     "metadata": {
      "needs_background": "light"
     },
     "output_type": "display_data"
    }
   ],
   "source": [
    "### frequencies of first-year GPAs\n",
    "\n",
    "plot_gpahisto(df3,20)"
   ]
  },
  {
   "cell_type": "code",
   "execution_count": 10,
   "metadata": {},
   "outputs": [
    {
     "data": {
      "text/plain": [
       "<matplotlib.lines.Line2D at 0x1f91916e978>"
      ]
     },
     "execution_count": 10,
     "metadata": {},
     "output_type": "execute_result"
    },
    {
     "data": {
      "image/png": "[encoded data removed]",
      "text/plain": [
       "<Figure size 432x288 with 1 Axes>"
      ]
     },
     "metadata": {
      "needs_background": "light"
     },
     "output_type": "display_data"
    }
   ],
   "source": [
    "### Kernel distribution estimation\n",
    "\n",
    "sns.distplot(df3[\"firstyeargpa\"], hist=True, kde=True,bins=30,  kde_kws={'linewidth': 3})\n",
    "plt.axvline(7, 0,2.5,color=\"red\")"
   ]
  },
  {
   "cell_type": "markdown",
   "metadata": {},
   "source": [
    "**Replication of Figure 2**\n",
    "\n",
    "The last graph to check the continuity assumption was created with the \"rddensity\" package in R. This graph has been imported as an image, but the code can be found in the [\"R_magic\"](https://github.com/OpenSourceEconomics/ose-data-science-course-projeect-tihaup/blob/master/cache/R_magic.ipynb) notebook. The graph explicitely tests for a discontinuity in the density of GPA at a value of 7. This test is called McCrary Test. Since the estimated densities don't differ significantly at the cutoff, a bunching of students just above 7 can't be detected here either. \n",
    "After all, we can conclude that the validity of the continuity assumption at the cutoff seems to hold and we can discard our prior concerns that students might have certain control over treatment selection. "
   ]
  },
  {
   "cell_type": "markdown",
   "metadata": {},
   "source": [
    "![Figure 2](files/figure2.png)"
   ]
  },
  {
   "cell_type": "markdown",
   "metadata": {},
   "source": [
    "### Mass Points <a name=\"identification3\"></a>"
   ]
  },
  {
   "cell_type": "code",
   "execution_count": 11,
   "metadata": {
    "scrolled": false
   },
   "outputs": [
    {
     "name": "stdout",
     "output_type": "stream",
     "text": [
      "There are 3585 observations around the cutoff within the optimal bandwidth. \n",
      "\n",
      "The number of individual students is 524.\n"
     ]
    }
   ],
   "source": [
    "### Number of observations around cutoff with optimal bandwidth\n",
    "\n",
    "num_students = len(collect_each_student(df1))\n",
    "print(f\"There are {len(df1)} observations around the cutoff within the optimal bandwidth. \\n\")\n",
    "print(f\"The number of individual students is {len(collect_each_student(df1))}.\")"
   ]
  },
  {
   "cell_type": "markdown",
   "metadata": {},
   "source": [
    "Observing more than 524 individual students near the cutoff, Kapoor et al. (2020) argue that this \"coverage of the support for GPA is usually sufficient for a continuity-based design\"."
   ]
  },
  {
   "cell_type": "markdown",
   "metadata": {},
   "source": [
    "# (4.) Replication of Baseline Results <a name=\"baseline\"></a>"
   ]
  },
  {
   "cell_type": "markdown",
   "metadata": {},
   "source": [
    "### Replication of Table 3 - Average Treatment Effects  <a name=\"baseline1\"></a>"
   ]
  },
  {
   "cell_type": "markdown",
   "metadata": {},
   "source": [
    "To get a first hint of size and direction of the effects induced by the attendance policy for below-7 students, let's have a look at the replication of Table 3. Here we pool on all three coursetypes. \n",
    "The following specifications are estimated in column 1 \n",
    "\n",
    "\\begin{align*}\n",
    "G = \\alpha + \\tau D + \\beta X + \\gamma X D + \\epsilon\n",
    "\\end{align*}\n",
    "\n",
    "where $G$ are second-year grades, $D$ indicates treatment assignment, $X$ is the running variable $firstyeargpa$ and $X \\in [6.635,7.365]$,\n",
    "\n",
    "and in column 4\n",
    "\n",
    "\\begin{align*}\n",
    "G = \\alpha + \\tau  D + \\beta_1 X + \\beta_2 X vol + \\beta_3 X for + \\gamma_1 X D + \\gamma_2 X D vol + \\gamma_3 X D for +  \\epsilon \n",
    "\\end{align*}\n",
    "\n",
    "where $vol$ indicates voluntary coursetype and $for$ indicates forced coursetype.\n",
    "\n",
    "In **column 1** we get an average treatment effect that is not signficantly different from zero, if we don't include interaction terms for different course types. Since I don't have data on personal characteristics, I cannot replicate columns 2 and 3 where fixed-effects on students' characteristics have been included. However, including these control variables does not change the result of having no average treatment effect without interaction terms.\n",
    "**Column 4** in contrast includes interaction terms between treatment and coursetype. Again, the average treatment effect of all types is very close to zero and insignificant, but we get a negative estimate for the interaction term of voluntary courses with treatment. This indicates that there might be different magnitudes of effects depending on the coursetype. Figure 1 and Table 4 will show very similiar results to this first evaluation. Note that my replication of column 4 differs from the results of the paper in that the paper finds a significantly negative estimate for the treatment-voluntary interaction term."
   ]
  },
  {
   "cell_type": "code",
   "execution_count": 12,
   "metadata": {},
   "outputs": [
    {
     "data": {
      "text/html": [
       "Table 3 - Effects on standardized grades<br><table style=\"text-align:center\"><tr><td colspan=\"3\" style=\"border-bottom: 1px solid black\"></td></tr><tr><td style=\"text-align:left\"></td><td colspan=\"2\"><em>Dependent variable:stdgrade</em></td></tr><tr><td style=\"text-align:left\"></td><tr><td></td><td colspan=\"1\">column 1</td><td colspan=\"1\">column 4</td></tr><tr><td colspan=\"3\" style=\"border-bottom: 1px solid black\"></td></tr><tr><td style=\"text-align:left\">1st-year GPA is below 7</td><td>0.03<sup></sup></td><td>0.05<sup></sup></td></tr><tr><td style=\"text-align:left\"></td><td>(0.07)</td><td>(0.09)</td></tr><tr><td style=\"text-align:left\">Attendance is voluntary x treatment</td><td></td><td>-0.10<sup></sup></td></tr><tr><td style=\"text-align:left\"></td><td></td><td>(0.12)</td></tr><tr><td style=\"text-align:left\">Absence is penalized x treatment</td><td></td><td>0.01<sup></sup></td></tr><tr><td style=\"text-align:left\"></td><td></td><td>(0.11)</td></tr><tr><td style=\"text-align: left\">Fixed Effects</td><td>No</td><td>No</td></tr><td colspan=\"3\" style=\"border-bottom: 1px solid black\"></td></tr><tr><td style=\"text-align: left\">Observations</td><td>3,585</td><td>3,585</td></tr><tr><td style=\"text-align: left\">R<sup>2</sup></td><td>-0.89</td><td>-0.88</td></tr><tr><td style=\"text-align: left\">Adjusted R<sup>2</sup></td><td>-0.90</td><td>-0.88</td></tr><tr><td style=\"text-align: left\">Residual Std. Error</td><td>0.86</td><td>0.86</td></tr><tr><td style=\"text-align: left\">F Statistic</td><td>35.85<sup>***</sup></td><td>14.15<sup>***</sup></td></tr><tr><td colspan=\"3\" style=\"border-bottom: 1px solid black\"></td></tr><tr><td style=\"text-align: left\">Note:</td>\n",
       " <td colspan=\"2\" style=\"text-align: right\">\n",
       "  <sup>*</sup>p&lt;0.1;\n",
       "  <sup>**</sup>p&lt;0.05;\n",
       "  <sup>***</sup>p&lt;0.01\n",
       " </td></tr></table>"
      ],
      "text/plain": [
       "<stargazer.stargazer.Stargazer at 0x1f91965ae80>"
      ]
     },
     "execution_count": 12,
     "metadata": {},
     "output_type": "execute_result"
    }
   ],
   "source": [
    "### Creating interaction terms and triangular kernel weights\n",
    "\n",
    "df11 = get_interactionterms(df1)\n",
    "df111 = get_kweights(df11,0.365)\n",
    "get_table3(df111)"
   ]
  },
  {
   "cell_type": "markdown",
   "metadata": {},
   "source": [
    "## Heterogeneous Average Treatment Effects <a name=\"baseline2\"></a>\n",
    "\n",
    "### Replication of Figure 1\n",
    "\n",
    "After observing a negative effect with an interaction term between treatment and voluntary coursetype, we now have a closer look at the differences in attendance rate and grades evaluated for each coursetype separately. The replications of Figure 1 confirm heterogeneous effects depending on the attendance policy for above-7 (untreated) students. The dots are local averages of attendance rate (left panel) and standardized grades (right panel) with a binsize of 0.05 in terms of the $firstyeargpa$ variable. The sizes of the dots represent the number of observations included in the bins and the lines are locally linear (blue) and cubic (grey) fitted regression lines. \n",
    "\n",
    "The large difference of attendance rates within voluntary and encouraged courses imply that the attendance rates in these courses \"are higher than necessary\", since we observe a negative difference of grades in voluntary courses and no effect at all in encouraged courses. For those courses where tutorial attendance was compulsary for both above-7 and below-7 students, there seems to be no effect at all. \n",
    "Kapoor et al. (2020) conclude that the \"attendance and grade effects suggest grades might only decrease if the additional constraint on choices is especially severe.\" Later in this section we will see the exact estimates of the heterogenous treatment effects. "
   ]
  },
  {
   "cell_type": "code",
   "execution_count": 13,
   "metadata": {
    "scrolled": false
   },
   "outputs": [
    {
     "data": {
      "image/png": "[encoded data removed]",
      "text/plain": [
       "<Figure size 1008x432 with 2 Axes>"
      ]
     },
     "metadata": {
      "needs_background": "light"
     },
     "output_type": "display_data"
    }
   ],
   "source": [
    "get_figure1(df,\"voluntary\")"
   ]
  },
  {
   "cell_type": "code",
   "execution_count": 14,
   "metadata": {},
   "outputs": [
    {
     "data": {
      "image/png": "[encoded data removed]",
      "text/plain": [
       "<Figure size 1008x432 with 2 Axes>"
      ]
     },
     "metadata": {
      "needs_background": "light"
     },
     "output_type": "display_data"
    }
   ],
   "source": [
    "get_figure1(df,\"encouraged\")"
   ]
  },
  {
   "cell_type": "code",
   "execution_count": 15,
   "metadata": {},
   "outputs": [
    {
     "data": {
      "image/png": "[encoded data removed]",
      "text/plain": [
       "<Figure size 1008x432 with 2 Axes>"
      ]
     },
     "metadata": {
      "needs_background": "light"
     },
     "output_type": "display_data"
    }
   ],
   "source": [
    "get_figure1(df,\"forced\")"
   ]
  },
  {
   "cell_type": "markdown",
   "metadata": {},
   "source": [
    "### Replication of Table 4\n",
    "\n",
    "Continuing with the results of the replicated Table 4, we can again detect some clear heterogeneity in treatment effects depending on the type of courses attended in the second year. The estimates in Table 4 have been derived from the \"rdrobust\" function which is implemented in R. Among other things it estimates robust bias−corrected point estimates, and therefore, calculating different treatment estimates than using OLS or Weighted Least Squares. I will conduct an independent analysis of these different estimations in chapter 6. There I will also compare these results with estimations using different degree polynomial regressions and varying the bandwidth of the data. The following specification was used: \n",
    "\n",
    "\\begin{align*}\n",
    "Y = \\alpha + \\tau D + \\beta X + \\gamma X D + \\epsilon,\n",
    "\\end{align*}\n",
    "\n",
    "where $Y \\in \\{attendance,stdgrade,passcourse\\}$, $D$ indicates treatment assignment, $X$ is the running variable $firstyeargpa$ with $X \\in [6.635,7.365]$. Note that we use the data group-wise for $voluntary$, $encouraged$ and $forced$ courses separately.\n",
    "\n",
    "As we've already seen in the replication of Figure 1, the highest treatment effects can be observed within second year courses where attendance of tutorials have been made voluntary, without any penalty for absence. Here students in the treatment group have a 31% higher tutorial attendance rate and a decrease in grades. Both results for this subgroup are highly significant.\n",
    "The difference between treated and untreated students within courses where tutorial attendance was encouraged but not penalized has decreased in magnitude compared to voluntary attendance courses, but still the attendance rates for treated students are significantly higher. Though, no significant difference in grades can be detected. \n",
    "The last part of Table 4 compares students within courses where also above-7 students where forced to attend tutorials. No significant treatment effects can be observed here, affirming the intuition of Figure 1. \n",
    "Notable is also that there is no significant effect on chances of passing the course in all three course types."
   ]
  },
  {
   "cell_type": "code",
   "execution_count": 16,
   "metadata": {},
   "outputs": [],
   "source": [
    "### Import the results from \"R_magic\" notebook:\n",
    "\n",
    "vol_rslt  = pkl.load(open(\"./cache/vol_rslt_pkl.pkl\",\"br\"))\n",
    "vol_rslt = vol_rslt.to_numpy()"
   ]
  },
  {
   "cell_type": "code",
   "execution_count": 17,
   "metadata": {},
   "outputs": [],
   "source": [
    "enc_rslt  = pkl.load(open(\"./cache/enc_rslt_pkl.pkl\",\"br\"))\n",
    "enc_rslt = enc_rslt.to_numpy()"
   ]
  },
  {
   "cell_type": "code",
   "execution_count": 18,
   "metadata": {},
   "outputs": [],
   "source": [
    "for_rslt  = pkl.load(open(\"./cache/for_rslt_pkl.pkl\",\"br\"))\n",
    "for_rslt = for_rslt.to_numpy()"
   ]
  },
  {
   "cell_type": "markdown",
   "metadata": {},
   "source": [
    "**Table 4 - voluntary course type**"
   ]
  },
  {
   "cell_type": "code",
   "execution_count": 19,
   "metadata": {},
   "outputs": [
    {
     "name": "stdout",
     "output_type": "stream",
     "text": [
      "Table 4 - voluntary course type\n",
      "╒══════════════════════╤════════════════════╤════════════════╤═══════════╤════════════════╕\n",
      "│ Variable             │ Treatment Effect   │ Stand. Error   │ p-value   │ Observations   │\n",
      "╞══════════════════════╪════════════════════╪════════════════╪═══════════╪════════════════╡\n",
      "│ Attendance rate      │                    │                │           │                │\n",
      "├──────────────────────┼────────────────────┼────────────────┼───────────┼────────────────┤\n",
      "│ 1st-year GPA below 7 │ 0.312              │ 0.038          │ 0.0       │ 927.0          │\n",
      "├──────────────────────┼────────────────────┼────────────────┼───────────┼────────────────┤\n",
      "│                      │                    │                │           │                │\n",
      "├──────────────────────┼────────────────────┼────────────────┼───────────┼────────────────┤\n",
      "│ Grade (standardized) │                    │                │           │                │\n",
      "├──────────────────────┼────────────────────┼────────────────┼───────────┼────────────────┤\n",
      "│ 1st-year GPA below 7 │ -0.18              │ 0.104          │ 0.083     │ 927.0          │\n",
      "├──────────────────────┼────────────────────┼────────────────┼───────────┼────────────────┤\n",
      "│                      │                    │                │           │                │\n",
      "├──────────────────────┼────────────────────┼────────────────┼───────────┼────────────────┤\n",
      "│ Passes course        │                    │                │           │                │\n",
      "├──────────────────────┼────────────────────┼────────────────┼───────────┼────────────────┤\n",
      "│ 1st-year GPA below 7 │ -0.072             │ 0.045          │ 0.107     │ 927.0          │\n",
      "╘══════════════════════╧════════════════════╧════════════════╧═══════════╧════════════════╛\n"
     ]
    }
   ],
   "source": [
    "get_table4(vol_rslt,\"voluntary\")"
   ]
  },
  {
   "cell_type": "markdown",
   "metadata": {},
   "source": [
    "**Table 4 - encouraged course type**"
   ]
  },
  {
   "cell_type": "code",
   "execution_count": 20,
   "metadata": {},
   "outputs": [
    {
     "name": "stdout",
     "output_type": "stream",
     "text": [
      "Table 4 - encouraged course type\n",
      "╒══════════════════════╤════════════════════╤════════════════╤═══════════╤════════════════╕\n",
      "│ Variable             │ Treatment Effect   │ Stand. Error   │ p-value   │ Observations   │\n",
      "╞══════════════════════╪════════════════════╪════════════════╪═══════════╪════════════════╡\n",
      "│ Attendance rate      │                    │                │           │                │\n",
      "├──────────────────────┼────────────────────┼────────────────┼───────────┼────────────────┤\n",
      "│ 1st-year GPA below 7 │ 0.129              │ 0.032          │ 0.0       │ 1424.0         │\n",
      "├──────────────────────┼────────────────────┼────────────────┼───────────┼────────────────┤\n",
      "│                      │                    │                │           │                │\n",
      "├──────────────────────┼────────────────────┼────────────────┼───────────┼────────────────┤\n",
      "│ Grade (standardized) │                    │                │           │                │\n",
      "├──────────────────────┼────────────────────┼────────────────┼───────────┼────────────────┤\n",
      "│ 1st-year GPA below 7 │ 0.037              │ 0.1            │ 0.714     │ 1424.0         │\n",
      "├──────────────────────┼────────────────────┼────────────────┼───────────┼────────────────┤\n",
      "│                      │                    │                │           │                │\n",
      "├──────────────────────┼────────────────────┼────────────────┼───────────┼────────────────┤\n",
      "│ Passes course        │                    │                │           │                │\n",
      "├──────────────────────┼────────────────────┼────────────────┼───────────┼────────────────┤\n",
      "│ 1st-year GPA below 7 │ 0.01               │ 0.044          │ 0.819     │ 1424.0         │\n",
      "╘══════════════════════╧════════════════════╧════════════════╧═══════════╧════════════════╛\n"
     ]
    }
   ],
   "source": [
    "get_table4(enc_rslt,\"encouraged\")"
   ]
  },
  {
   "cell_type": "markdown",
   "metadata": {},
   "source": [
    "**Table 4 - forced course type**"
   ]
  },
  {
   "cell_type": "code",
   "execution_count": 21,
   "metadata": {},
   "outputs": [
    {
     "name": "stdout",
     "output_type": "stream",
     "text": [
      "Table 4 - forced course type\n",
      "╒══════════════════════╤════════════════════╤════════════════╤═══════════╤════════════════╕\n",
      "│ Variable             │ Treatment Effect   │ Stand. Error   │ p-value   │ Observations   │\n",
      "╞══════════════════════╪════════════════════╪════════════════╪═══════════╪════════════════╡\n",
      "│ Attendance rate      │                    │                │           │                │\n",
      "├──────────────────────┼────────────────────┼────────────────┼───────────┼────────────────┤\n",
      "│ 1st-year GPA below 7 │ 0.002              │ 0.013          │ 0.865     │ 1234.0         │\n",
      "├──────────────────────┼────────────────────┼────────────────┼───────────┼────────────────┤\n",
      "│                      │                    │                │           │                │\n",
      "├──────────────────────┼────────────────────┼────────────────┼───────────┼────────────────┤\n",
      "│ Grade (standardized) │                    │                │           │                │\n",
      "├──────────────────────┼────────────────────┼────────────────┼───────────┼────────────────┤\n",
      "│ 1st-year GPA below 7 │ -0.034             │ 0.101          │ 0.735     │ 1234.0         │\n",
      "├──────────────────────┼────────────────────┼────────────────┼───────────┼────────────────┤\n",
      "│                      │                    │                │           │                │\n",
      "├──────────────────────┼────────────────────┼────────────────┼───────────┼────────────────┤\n",
      "│ Passes course        │                    │                │           │                │\n",
      "├──────────────────────┼────────────────────┼────────────────┼───────────┼────────────────┤\n",
      "│ 1st-year GPA below 7 │ -0.033             │ 0.035          │ 0.348     │ 1234.0         │\n",
      "╘══════════════════════╧════════════════════╧════════════════╧═══════════╧════════════════╛\n"
     ]
    }
   ],
   "source": [
    "get_table4(for_rslt,\"forced\")"
   ]
  },
  {
   "cell_type": "markdown",
   "metadata": {},
   "source": [
    "# (5.) Robustness Checks <a name=\"robustness\"></a>\n"
   ]
  },
  {
   "cell_type": "markdown",
   "metadata": {},
   "source": [
    "## Replication of Table 5 - Robustness Check with Abolition Cohort  <a name=\"robustness1\"></a>"
   ]
  },
  {
   "cell_type": "markdown",
   "metadata": {},
   "source": [
    "The abolition cohort is the first cohort that has not been affected by the attendance policy for below-7 students, since this policy was abolished in 2014.\n",
    "In the replicated Table 5 the abolition cohort is compared with the previous five cohorts where below-7 students received the treatment of forced tutorial attendance. Note that we only focus on courses where above-7 students had a voluntary tutorial attendance policy and on students within a bandwidth of 0.1 around a first-year GPA of 7. \n",
    "\n",
    "Even when restricting the data to 0.1 around the cutoff, the difference in grades between treated and untreated students in the first five cohorts is higly significant. Whereas this difference within the abolition cohort gets very small and statistically insignifcant. We can also note that the difference across treated and abolition cohorts for both below-7 and above-7 students are not statistically significant. \n",
    "Furthermore, the replication of Table A.6 that can be found in the Appendix shows that the Treatment Effect on standardized grades is insignificant within all coursetypes in the abolition cohort. My extension, visualizing the treatment effect, shows that within voluntary courses there seems to be a small difference at the cutoff which is not significantly negative as seen in Table A.6.  "
   ]
  },
  {
   "cell_type": "code",
   "execution_count": 22,
   "metadata": {},
   "outputs": [],
   "source": [
    "### get subsets of different cohorts (1-5 and 6) and only \"voluntary\" coursetype:\n",
    "\n",
    "df_c15 = get_truncated_data(df,0.365,1,\"voluntary\")\n",
    "df_c6 = get_truncated_data(df,0.365,6,\"voluntary\")"
   ]
  },
  {
   "cell_type": "markdown",
   "metadata": {},
   "source": [
    "**Replication of Table 5 - Comparison to Abolition Cohort**"
   ]
  },
  {
   "cell_type": "code",
   "execution_count": 23,
   "metadata": {
    "scrolled": false
   },
   "outputs": [
    {
     "name": "stdout",
     "output_type": "stream",
     "text": [
      "╒════════════════════════════════╤═════════════╤═════════════╤══════════════╤═══════════╕\n",
      "│ Cohort   |   First-year GPA:   │ [6.9,7.0]   │ [7.0,7.1]   │ Difference   │ p-value   │\n",
      "╞════════════════════════════════╪═════════════╪═════════════╪══════════════╪═══════════╡\n",
      "│ 2009-2013                      │             │             │              │           │\n",
      "├────────────────────────────────┼─────────────┼─────────────┼──────────────┼───────────┤\n",
      "│ Second-year Grade Average      │ 6.404       │ 6.762       │ 0.358        │ 0.004     │\n",
      "├────────────────────────────────┼─────────────┼─────────────┼──────────────┼───────────┤\n",
      "│ Observations                   │ 161         │ 146         │              │           │\n",
      "├────────────────────────────────┼─────────────┼─────────────┼──────────────┼───────────┤\n",
      "│                                │             │             │              │           │\n",
      "├────────────────────────────────┼─────────────┼─────────────┼──────────────┼───────────┤\n",
      "│ 2014                           │             │             │              │           │\n",
      "├────────────────────────────────┼─────────────┼─────────────┼──────────────┼───────────┤\n",
      "│ Second-year Grade Average      │ 6.747       │ 6.879       │ 0.132        │ 0.651     │\n",
      "├────────────────────────────────┼─────────────┼─────────────┼──────────────┼───────────┤\n",
      "│ Observations                   │ 38          │ 61          │              │           │\n",
      "├────────────────────────────────┼─────────────┼─────────────┼──────────────┼───────────┤\n",
      "│                                │             │             │              │           │\n",
      "├────────────────────────────────┼─────────────┼─────────────┼──────────────┼───────────┤\n",
      "│ Difference between cohorts     │ 0.343       │ 0.117       │              │           │\n",
      "├────────────────────────────────┼─────────────┼─────────────┼──────────────┼───────────┤\n",
      "│ p-value                        │ 0.126       │ 0.487       │              │           │\n",
      "╘════════════════════════════════╧═════════════╧═════════════╧══════════════╧═══════════╛\n"
     ]
    }
   ],
   "source": [
    "get_table5(df_c15,df_c6)"
   ]
  },
  {
   "cell_type": "markdown",
   "metadata": {},
   "source": [
    "**Replication of Table A.6 (Appendix)**"
   ]
  },
  {
   "cell_type": "code",
   "execution_count": 24,
   "metadata": {
    "scrolled": true
   },
   "outputs": [
    {
     "name": "stdout",
     "output_type": "stream",
     "text": [
      "╒═══════════════╤════════════════════╤══════════════════╤═══════════╤════════════════╕\n",
      "│ Course Type   │   Treatment Effect │   Standard Error │   p-value │   Observations │\n",
      "╞═══════════════╪════════════════════╪══════════════════╪═══════════╪════════════════╡\n",
      "│ Voluntary     │             -0.112 │            0.229 │     0.627 │            279 │\n",
      "├───────────────┼────────────────────┼──────────────────┼───────────┼────────────────┤\n",
      "│ Encouraged    │             -0.04  │            0.189 │     0.832 │            430 │\n",
      "├───────────────┼────────────────────┼──────────────────┼───────────┼────────────────┤\n",
      "│ Forced        │             -0.057 │            0.163 │     0.728 │            425 │\n",
      "╘═══════════════╧════════════════════╧══════════════════╧═══════════╧════════════════╛\n"
     ]
    }
   ],
   "source": [
    "get_table_A6(df)"
   ]
  },
  {
   "cell_type": "markdown",
   "metadata": {},
   "source": [
    "**Extension - Visualisation of Treatment Effect in Abolition Cohort**"
   ]
  },
  {
   "cell_type": "code",
   "execution_count": 25,
   "metadata": {
    "scrolled": false
   },
   "outputs": [
    {
     "data": {
      "image/png": "[encoded data removed]",
      "text/plain": [
       "<Figure size 1440x504 with 3 Axes>"
      ]
     },
     "metadata": {
      "needs_background": "light"
     },
     "output_type": "display_data"
    }
   ],
   "source": [
    "get_figure1_abolition(df,\"voluntary\")"
   ]
  },
  {
   "cell_type": "markdown",
   "metadata": {},
   "source": [
    "## Other possible Mechanisms that might explain this negative treatment effect!  <a name=\"robustness2\"></a>\n",
    "\n",
    "**Tutorial Quality**\n",
    "\n",
    "One possible explanation for the strong effect of lower grades within the treatment group in voluntary courses could be that there is some significant difference in tutorial quality compared to the encouraged and forced courses. Having relatively less competent Teaching Assistance in voluntary courses would then explain why students in these courses perform worse if they are forced to visit these tutorials by the attendance policy. If this mechanism were to hold true, then the impact in voluntary courses would be even higher, since the difference in attendance rate is particular high in these courses. Kapoor et al.(2020) find no significant difference in the evaluation of Teaching Assistances, but only taking into account the abolition cohort. It would be interesting to know if there are structural differences within the treated cohorts though.  \n",
    "\n",
    "**Cost of Tutorial Attendance**\n",
    "\n",
    "There might be costs of some sort in order to attend tutorials and these costs could differ significantly across course types, which again could explain the particular high difference in voluntary courses. Kapoor et al.(2020) use \"distance to the university as a proxy for the price of attendance\" since higher distances to university mean longer travel times and are therefore more costly in terms of time. Estimating treatment effects using propensity scores they find that \"the policy had a larger effect on students who live far from campus\", indicating that students that live farther away \"have a greater propensity to attend less in the absence of forced attendance\". Still, Table 6 in Kapoor et al. (2020), which I unfortunately cannot replicate again (because the author's could not provide me with the complete data set), shows that the heterogenous treatment effects across course types are very similiar to the ones estimated in the replication of Table 4.  \n",
    "\n",
    "Since all of these possible drivers of a negative treatment effect seem to be insignificant, Kapoor et al. (2020) conclude that instead the main reason for the decrease in grades within the treatment group might be constraints on choices that students would have in the absence of this policy, and that this negative effect seems to even outweigh the positive impact of imposing a higher degree of structure.\n"
   ]
  },
  {
   "cell_type": "markdown",
   "metadata": {},
   "source": [
    "## Fake Cutoff Test  <a name=\"fakecutoff\"></a>\n",
    "\n",
    "**Replication of Table A.11 (Appendix)**\n",
    "\n",
    "In this section I want to test whether there are jumps at fake cutoffs of 6, 8, 8.25 and 9 within voluntary courses. 8.25 has been selected by Kapoor et al. (2020) since this GPA refers to a cum laude grade.  Note that Kapoor et al. (2020) performed this Fake Cutoff Test using additional control variables which are not available in this notebook. The first table depicts the treatment effects using local linear regressions with triangular kernel weighting and clustered standard errors. No significant effect can be observed at the cutoffs of 6, 8.25 and 9, but at 8 there seems to be a highly signficant, negative effect on grades. The second table depicts the imported results from the \"R_magic\" notebook using the \"rdrobust\" function. Note that here the effect at the fake cutoff is not signficant as in Kapoor et al. (2020). The difference between my results in python and the imported results using \"rdrobust\" in R will be further discussed in Chapter 6.\n",
    "Overall, the results are still pretty close to the ones in the paper where no significant discontinuities at the fake cutoffs can be observed. This statement holds also true for the third and forth table where the effects were estimated for attendance rate and passcourse."
   ]
  },
  {
   "cell_type": "markdown",
   "metadata": {},
   "source": [
    "**Standardized Grades - Voluntary Courses**"
   ]
  },
  {
   "cell_type": "code",
   "execution_count": 26,
   "metadata": {
    "scrolled": false
   },
   "outputs": [
    {
     "name": "stdout",
     "output_type": "stream",
     "text": [
      "╒══════════════════╤════════════════════╤═══════════╕\n",
      "│   Fake Cutoff at │   Treatment Effect │   p-value │\n",
      "╞══════════════════╪════════════════════╪═══════════╡\n",
      "│             6    │              0.206 │     0.353 │\n",
      "├──────────────────┼────────────────────┼───────────┤\n",
      "│             8    │             -0.359 │     0.023 │\n",
      "├──────────────────┼────────────────────┼───────────┤\n",
      "│             8.25 │              0.114 │     0.423 │\n",
      "├──────────────────┼────────────────────┼───────────┤\n",
      "│             9    │              0.122 │     0.767 │\n",
      "╘══════════════════╧════════════════════╧═══════════╛\n"
     ]
    }
   ],
   "source": [
    "rslt_fake = get_fakecutoff(df,\"voluntary\",\"stdgrade\")\n",
    "get_table_fakecutoff(rslt_fake)"
   ]
  },
  {
   "cell_type": "markdown",
   "metadata": {},
   "source": [
    "**Standardized Grades - Voluntary Courses (using rdrobust)**"
   ]
  },
  {
   "cell_type": "code",
   "execution_count": 27,
   "metadata": {},
   "outputs": [
    {
     "name": "stdout",
     "output_type": "stream",
     "text": [
      "╒══════════════════╤════════════════════╤═══════════╕\n",
      "│   Fake Cutoff at │   Treatment Effect │   p-value │\n",
      "╞══════════════════╪════════════════════╪═══════════╡\n",
      "│             6    │              0.133 │     0.494 │\n",
      "├──────────────────┼────────────────────┼───────────┤\n",
      "│             8    │             -0.209 │     0.211 │\n",
      "├──────────────────┼────────────────────┼───────────┤\n",
      "│             8.25 │              0.092 │     0.507 │\n",
      "├──────────────────┼────────────────────┼───────────┤\n",
      "│             9    │              0.133 │     0.772 │\n",
      "╘══════════════════╧════════════════════╧═══════════╛\n"
     ]
    }
   ],
   "source": [
    "rslt_fake_r  = pkl.load(open(\"./cache/rslt_fake_r_pkl.pkl\",\"br\"))\n",
    "get_table_fakecutoff(rslt_fake_r)"
   ]
  },
  {
   "cell_type": "markdown",
   "metadata": {},
   "source": [
    "**Attendance Rate - Voluntary Courses**"
   ]
  },
  {
   "cell_type": "code",
   "execution_count": 28,
   "metadata": {
    "scrolled": true
   },
   "outputs": [
    {
     "name": "stdout",
     "output_type": "stream",
     "text": [
      "╒══════════════════╤════════════════════╤═══════════╕\n",
      "│   Fake Cutoff at │   Treatment Effect │   p-value │\n",
      "╞══════════════════╪════════════════════╪═══════════╡\n",
      "│             6    │              0.019 │     0.251 │\n",
      "├──────────────────┼────────────────────┼───────────┤\n",
      "│             8    │              0.066 │     0.482 │\n",
      "├──────────────────┼────────────────────┼───────────┤\n",
      "│             8.25 │             -0.038 │     0.699 │\n",
      "├──────────────────┼────────────────────┼───────────┤\n",
      "│             9    │              0.24  │     0.516 │\n",
      "╘══════════════════╧════════════════════╧═══════════╛\n"
     ]
    }
   ],
   "source": [
    "rslt_fake2 = get_fakecutoff(df,\"voluntary\",\"attendance\")\n",
    "get_table_fakecutoff(rslt_fake2)"
   ]
  },
  {
   "cell_type": "markdown",
   "metadata": {},
   "source": [
    "**Passcourse - Voluntary Courses**"
   ]
  },
  {
   "cell_type": "code",
   "execution_count": 29,
   "metadata": {},
   "outputs": [
    {
     "name": "stdout",
     "output_type": "stream",
     "text": [
      "╒══════════════════╤════════════════════╤═══════════╕\n",
      "│   Fake Cutoff at │   Treatment Effect │   p-value │\n",
      "╞══════════════════╪════════════════════╪═══════════╡\n",
      "│             6    │              0.146 │     0.258 │\n",
      "├──────────────────┼────────────────────┼───────────┤\n",
      "│             8    │             -0.022 │     0.355 │\n",
      "├──────────────────┼────────────────────┼───────────┤\n",
      "│             8.25 │              0.004 │     0.333 │\n",
      "├──────────────────┼────────────────────┼───────────┤\n",
      "│             9    │              0     │     0.65  │\n",
      "╘══════════════════╧════════════════════╧═══════════╛\n"
     ]
    }
   ],
   "source": [
    "rslt_fake3 = get_fakecutoff(df,\"voluntary\",\"passcourse\")\n",
    "get_table_fakecutoff(rslt_fake3)"
   ]
  },
  {
   "cell_type": "markdown",
   "metadata": {},
   "source": [
    "# (6.) Independent Contributions  <a name=\"independent\"></a>\n",
    "\n",
    "In this chapter I will present my independent contributions to the paper. First, I will show my treatment effect results compared to the ones estimated in Chapter 4, using the \"rdrobust\" function in the \"R_magic\" notebook. Second, I will discuss estimations using higher degree polynomial regressions and how these results have changed. Third, I will check the sensitivity of the results to the selection of different bandwidths. "
   ]
  },
  {
   "cell_type": "markdown",
   "metadata": {},
   "source": [
    "## Specification 1 - Local Linear Regression Estimates <a name=\"contribution1\"></a>\n",
    "\n",
    "When first trying to replicate the baseline results of this paper I did not use the R implementation of \"rdroust\", but instead simply estimated the Local Average Treatment Effects using local linear regressions with triangular kernel weights and clustered standard errors. Nevertheless, my results differed by quite a bit compared to the estimates in the paper. That's why I decided to report these results and label them as my independent contribution. The specification is the same as for the replication of Table 4 without using \"rdrobust\":\n",
    "\n",
    "\\begin{align*}\n",
    "Y = \\alpha + \\tau D + \\beta X + \\gamma X D + \\epsilon,\n",
    "\\end{align*}\n",
    "\n",
    "where $Y \\in \\{attendance,stdgrade,passcourse\\}$, $D$ indicates treatment assignment, $X$ is the running variable $firstyeargpa$ with $X \\in [6.635,7.365]$.\n",
    "\n",
    "Overall the results using local linear regression estimates with triangular kernel weighting and clustered students standard errors don't differ by much compared to the ones estimated by the \"rdrobust\" function in R. Though, sometimes there is quite a difference in p-values, resulting from different standard errors. The main difference can be seen in the specification with voluntary courses. There the treatment effect on standardized grades differs significantly. While the specifiction in R (and in Kapoor et al. (2020)) shows a significant, negative effect on grades, my specification indeed shows a negative effect as well, that is very small though and not significant at all. That was actually the reason why I decided to run the \"rdrobust\" specification in the replication part, since this result was one of the main ones in the paper. This big difference might stem from the fact that the \"rdrobust\" function \"allows for covariate-adjusted point estimation and covariate-adjusted robust bias-corrected inference\" (Calonico et al.(2017)). However, I'm wondering why there is this large difference in estimations only for standardized grades around the cutoff. As seen in my first result of the Fake Cutoff Test, there has been detected a significant discontinuity at a value of 8, that should not occur there. Maybe there is some misspecification somewhere in my python code, but I've used the exact same data set here and in the \"R_magic\" notebook."
   ]
  },
  {
   "cell_type": "markdown",
   "metadata": {},
   "source": [
    "**Voluntary Courses**"
   ]
  },
  {
   "cell_type": "code",
   "execution_count": 30,
   "metadata": {},
   "outputs": [
    {
     "name": "stdout",
     "output_type": "stream",
     "text": [
      "╒═════════════════════╤════════════════════╤═══════════╤═══════════════════════════════╤═══════════╕\n",
      "│ Variable            │   Treatment Effect │   p-value │   Treatment Effect (rdrobust) │   p-value │\n",
      "╞═════════════════════╪════════════════════╪═══════════╪═══════════════════════════════╪═══════════╡\n",
      "│ Attendance Rate     │              0.301 │     0     │                         0.312 │     0     │\n",
      "├─────────────────────┼────────────────────┼───────────┼───────────────────────────────┼───────────┤\n",
      "│ Standardized Grades │             -0.051 │     0.603 │                        -0.18  │     0.083 │\n",
      "├─────────────────────┼────────────────────┼───────────┼───────────────────────────────┼───────────┤\n",
      "│ Passes Course       │             -0.048 │     0.256 │                        -0.072 │     0.107 │\n",
      "╘═════════════════════╧════════════════════╧═══════════╧═══════════════════════════════╧═══════════╛\n"
     ]
    }
   ],
   "source": [
    "get_table_spec1(df,\"voluntary\",vol_rslt)"
   ]
  },
  {
   "cell_type": "markdown",
   "metadata": {},
   "source": [
    "**Encouraged Courses**"
   ]
  },
  {
   "cell_type": "code",
   "execution_count": 31,
   "metadata": {},
   "outputs": [
    {
     "name": "stdout",
     "output_type": "stream",
     "text": [
      "╒═════════════════════╤════════════════════╤═══════════╤═══════════════════════════════╤═══════════╕\n",
      "│ Variable            │   Treatment Effect │   p-value │   Treatment Effect (rdrobust) │   p-value │\n",
      "╞═════════════════════╪════════════════════╪═══════════╪═══════════════════════════════╪═══════════╡\n",
      "│ Attendance Rate     │              0.137 │     0     │                         0.129 │     0     │\n",
      "├─────────────────────┼────────────────────┼───────────┼───────────────────────────────┼───────────┤\n",
      "│ Standardized Grades │              0.05  │     0.597 │                         0.037 │     0.714 │\n",
      "├─────────────────────┼────────────────────┼───────────┼───────────────────────────────┼───────────┤\n",
      "│ Passes Course       │              0.008 │     0.851 │                         0.01  │     0.819 │\n",
      "╘═════════════════════╧════════════════════╧═══════════╧═══════════════════════════════╧═══════════╛\n"
     ]
    }
   ],
   "source": [
    "get_table_spec1(df,\"encouraged\",enc_rslt)"
   ]
  },
  {
   "cell_type": "markdown",
   "metadata": {},
   "source": [
    "**Forced Courses**"
   ]
  },
  {
   "cell_type": "code",
   "execution_count": 32,
   "metadata": {},
   "outputs": [
    {
     "name": "stdout",
     "output_type": "stream",
     "text": [
      "╒═════════════════════╤════════════════════╤═══════════╤═══════════════════════════════╤═══════════╕\n",
      "│ Variable            │   Treatment Effect │   p-value │   Treatment Effect (rdrobust) │   p-value │\n",
      "╞═════════════════════╪════════════════════╪═══════════╪═══════════════════════════════╪═══════════╡\n",
      "│ Attendance Rate     │              0.004 │      0.77 │                         0.002 │     0.865 │\n",
      "├─────────────────────┼────────────────────┼───────────┼───────────────────────────────┼───────────┤\n",
      "│ Standardized Grades │              0.063 │      0.54 │                        -0.034 │     0.735 │\n",
      "├─────────────────────┼────────────────────┼───────────┼───────────────────────────────┼───────────┤\n",
      "│ Passes Course       │              0.003 │      0.93 │                        -0.033 │     0.348 │\n",
      "╘═════════════════════╧════════════════════╧═══════════╧═══════════════════════════════╧═══════════╛\n"
     ]
    }
   ],
   "source": [
    "get_table_spec1(df,\"forced\",for_rslt)"
   ]
  },
  {
   "cell_type": "markdown",
   "metadata": {},
   "source": [
    "## Specification 2 - Local Polynomial Regression Estimates <a name=\"contribution2\"></a>\n",
    "\n",
    "As a second part of my independent contribution I compare the previous results with estimates of local regressions using higher degree polynomials. In order to not overload this notebook with imported results using the \"rdrobust\" function, I estimated the treatment effects using Weighted Least Squares Regression with triangular kernel weights and clustered standard errors. The following specifications have been considered in the analysis:\n",
    "\n",
    "**Local Quadratic Regression Estimates**\n",
    "\n",
    "\\begin{align*}\n",
    "G = \\alpha + \\tau D + \\beta_1 X + \\beta_2 X^2 + \\gamma_1 X D + \\gamma_2 X^2 D + \\epsilon,\n",
    "\\end{align*}\n",
    "\n",
    "**Local Cubic Regression Estimates**\n",
    "\n",
    "\\begin{align*}\n",
    "G = \\alpha + \\tau D + \\beta_1 X + \\beta_2 X^2 + \\beta_3 X^3 + \\gamma X D + \\gamma_2 X^2 D + \\gamma_3 X^3 D + \\epsilon,\n",
    "\\end{align*}\n",
    "\n",
    "where $G$ are standardized second-year grades, $D$ indicates treatment assignment and $X$ is the running variable $firstyeargpa$ with $X \\in [6.635,7.365]$\n",
    "\n",
    "Since we are particularly interested in the effects on grades, I conducted the following analysis only on standardized grades. The first table shows the treatment effects within voluntary courses. Here the treatment effect on grades increases by a lot and becomes highly significant in the quadratic and cubic specification. Again, the big difference of the linear specification compared to the results with \"rdrobust\" have been discussed earlier, and that's also the reason why the difference here is pretty large. In the second table there is almost no difference between the three specifications observable. The third table shows that the treatment effect in forced courses becomes negative and significant in the cubic specification. Having another look at the replicated Figure 4 where the grey line is actually a cubic fitted line (bandwidth of 0.5, though) it can be observed that there is quite a difference right at the cutoff. Notable is that the treatment effect even becomes larger than within voluntary courses."
   ]
  },
  {
   "cell_type": "markdown",
   "metadata": {},
   "source": [
    "**Voluntary Courses**"
   ]
  },
  {
   "cell_type": "code",
   "execution_count": 33,
   "metadata": {},
   "outputs": [
    {
     "name": "stdout",
     "output_type": "stream",
     "text": [
      "╒═══════════════════════╤════════════════════╤═══════════╕\n",
      "│ Order of Polynomial   │   Treatment Effect │   p-value │\n",
      "╞═══════════════════════╪════════════════════╪═══════════╡\n",
      "│ Locally Linear        │         -0.0514075 │ 0.603373  │\n",
      "├───────────────────────┼────────────────────┼───────────┤\n",
      "│ Locally Quadratic     │         -0.38113   │ 0.0103801 │\n",
      "├───────────────────────┼────────────────────┼───────────┤\n",
      "│ Locally Cubic         │         -0.338567  │ 0.0954151 │\n",
      "╘═══════════════════════╧════════════════════╧═══════════╛\n"
     ]
    }
   ],
   "source": [
    "get_table_spec2(df,\"voluntary\")"
   ]
  },
  {
   "cell_type": "markdown",
   "metadata": {},
   "source": [
    "**Encouraged Courses**"
   ]
  },
  {
   "cell_type": "code",
   "execution_count": 34,
   "metadata": {},
   "outputs": [
    {
     "name": "stdout",
     "output_type": "stream",
     "text": [
      "╒═══════════════════════╤════════════════════╤═══════════╕\n",
      "│ Order of Polynomial   │   Treatment Effect │   p-value │\n",
      "╞═══════════════════════╪════════════════════╪═══════════╡\n",
      "│ Locally Linear        │         0.0501446  │  0.596693 │\n",
      "├───────────────────────┼────────────────────┼───────────┤\n",
      "│ Locally Quadratic     │         0.00922801 │  0.948404 │\n",
      "├───────────────────────┼────────────────────┼───────────┤\n",
      "│ Locally Cubic         │        -0.0691085  │  0.711651 │\n",
      "╘═══════════════════════╧════════════════════╧═══════════╛\n"
     ]
    }
   ],
   "source": [
    "get_table_spec2(df,\"encouraged\")"
   ]
  },
  {
   "cell_type": "markdown",
   "metadata": {},
   "source": [
    "**Forced Courses**"
   ]
  },
  {
   "cell_type": "code",
   "execution_count": 35,
   "metadata": {},
   "outputs": [
    {
     "name": "stdout",
     "output_type": "stream",
     "text": [
      "╒═══════════════════════╤════════════════════╤═══════════╕\n",
      "│ Order of Polynomial   │   Treatment Effect │   p-value │\n",
      "╞═══════════════════════╪════════════════════╪═══════════╡\n",
      "│ Locally Linear        │          0.0629805 │ 0.539971  │\n",
      "├───────────────────────┼────────────────────┼───────────┤\n",
      "│ Locally Quadratic     │         -0.185706  │ 0.204558  │\n",
      "├───────────────────────┼────────────────────┼───────────┤\n",
      "│ Locally Cubic         │         -0.483509  │ 0.0180783 │\n",
      "╘═══════════════════════╧════════════════════╧═══════════╛\n"
     ]
    }
   ],
   "source": [
    "get_table_spec2(df,\"forced\")"
   ]
  },
  {
   "cell_type": "markdown",
   "metadata": {},
   "source": [
    "## Specification 3 - Bandwidth Sensitivity <a name=\"contribution3\"></a>\n",
    "\n",
    "As a final contribution I vary the selected bandwidth of data considered in the estimations and will compare the results to the optimal bandwidth of 0.365 that was chosen by Kapoor et al. (2020). The first three tables show the results of the sensitivity analysis within voluntary courses only. We can observe pretty robust results for attendance rate and passcourse compared to the results of the optimal bandwidth. For standardized grades we can observe that the further we restrict the data towards the cutoff the higher negative the treatment effect on grades, which even becomes highly significant at a bandwidth of 0.2. "
   ]
  },
  {
   "cell_type": "markdown",
   "metadata": {},
   "source": [
    "**Attendance Rate - Voluntary Courses**   "
   ]
  },
  {
   "cell_type": "code",
   "execution_count": 36,
   "metadata": {
    "scrolled": true
   },
   "outputs": [
    {
     "name": "stdout",
     "output_type": "stream",
     "text": [
      "╒═════════════╤════════════════════╤═══════════╕\n",
      "│   Bandwidth │   Treatment Effect │   p-value │\n",
      "╞═════════════╪════════════════════╪═══════════╡\n",
      "│       0.5   │              0.27  │         0 │\n",
      "├─────────────┼────────────────────┼───────────┤\n",
      "│       0.4   │              0.278 │         0 │\n",
      "├─────────────┼────────────────────┼───────────┤\n",
      "│       0.365 │              0.301 │         0 │\n",
      "├─────────────┼────────────────────┼───────────┤\n",
      "│       0.3   │              0.301 │         0 │\n",
      "├─────────────┼────────────────────┼───────────┤\n",
      "│       0.2   │              0.312 │         0 │\n",
      "├─────────────┼────────────────────┼───────────┤\n",
      "│       0.1   │              0.343 │         0 │\n",
      "╘═════════════╧════════════════════╧═══════════╛\n"
     ]
    }
   ],
   "source": [
    "rslt_bw1 = get_bandwidth_results(df,\"voluntary\",\"attendance\")\n",
    "get_table_spec3(rslt_bw1)"
   ]
  },
  {
   "cell_type": "markdown",
   "metadata": {},
   "source": [
    "**Standardized Grades - Voluntary Courses**  "
   ]
  },
  {
   "cell_type": "code",
   "execution_count": 37,
   "metadata": {},
   "outputs": [
    {
     "name": "stdout",
     "output_type": "stream",
     "text": [
      "╒═════════════╤════════════════════╤═══════════╕\n",
      "│   Bandwidth │   Treatment Effect │   p-value │\n",
      "╞═════════════╪════════════════════╪═══════════╡\n",
      "│       0.5   │             -0.141 │     0.112 │\n",
      "├─────────────┼────────────────────┼───────────┤\n",
      "│       0.4   │             -0.08  │     0.403 │\n",
      "├─────────────┼────────────────────┼───────────┤\n",
      "│       0.365 │             -0.051 │     0.603 │\n",
      "├─────────────┼────────────────────┼───────────┤\n",
      "│       0.3   │             -0.108 │     0.321 │\n",
      "├─────────────┼────────────────────┼───────────┤\n",
      "│       0.2   │             -0.352 │     0.008 │\n",
      "├─────────────┼────────────────────┼───────────┤\n",
      "│       0.1   │             -0.344 │     0.06  │\n",
      "╘═════════════╧════════════════════╧═══════════╛\n"
     ]
    }
   ],
   "source": [
    "rslt_bw2 = get_bandwidth_results(df,\"voluntary\",\"stdgrade\")\n",
    "get_table_spec3(rslt_bw2)"
   ]
  },
  {
   "cell_type": "markdown",
   "metadata": {},
   "source": [
    "**Passes Course - Voluntary Courses**  "
   ]
  },
  {
   "cell_type": "code",
   "execution_count": 38,
   "metadata": {},
   "outputs": [
    {
     "name": "stdout",
     "output_type": "stream",
     "text": [
      "╒═════════════╤════════════════════╤═══════════╕\n",
      "│   Bandwidth │   Treatment Effect │   p-value │\n",
      "╞═════════════╪════════════════════╪═══════════╡\n",
      "│       0.5   │             -0.065 │     0.089 │\n",
      "├─────────────┼────────────────────┼───────────┤\n",
      "│       0.4   │             -0.057 │     0.161 │\n",
      "├─────────────┼────────────────────┼───────────┤\n",
      "│       0.365 │             -0.048 │     0.256 │\n",
      "├─────────────┼────────────────────┼───────────┤\n",
      "│       0.3   │             -0.039 │     0.409 │\n",
      "├─────────────┼────────────────────┼───────────┤\n",
      "│       0.2   │             -0.119 │     0.041 │\n",
      "├─────────────┼────────────────────┼───────────┤\n",
      "│       0.1   │             -0.095 │     0.233 │\n",
      "╘═════════════╧════════════════════╧═══════════╛\n"
     ]
    }
   ],
   "source": [
    "rslt_bw3 = get_bandwidth_results(df,\"voluntary\",\"passcourse\")\n",
    "get_table_spec3(rslt_bw3)"
   ]
  },
  {
   "cell_type": "markdown",
   "metadata": {},
   "source": [
    "Interesting is the comparison of standardized grades in encouraged and forced courses. While the effect in encouraged courses stays very close to zero throughout the selection of bandwidths, the effect in forced courses, where we observed the smallest difference between treated and untreated students in all of the previous analyses, becomes significant and highly negative if we reach a bandwidth of 0.1 around the cutoff.   "
   ]
  },
  {
   "cell_type": "markdown",
   "metadata": {},
   "source": [
    "**Standardized Grades - Encouraged Courses**"
   ]
  },
  {
   "cell_type": "code",
   "execution_count": 39,
   "metadata": {},
   "outputs": [
    {
     "name": "stdout",
     "output_type": "stream",
     "text": [
      "╒═════════════╤════════════════════╤═══════════╕\n",
      "│   Bandwidth │   Treatment Effect │   p-value │\n",
      "╞═════════════╪════════════════════╪═══════════╡\n",
      "│       0.5   │              0.035 │     0.673 │\n",
      "├─────────────┼────────────────────┼───────────┤\n",
      "│       0.4   │              0.032 │     0.721 │\n",
      "├─────────────┼────────────────────┼───────────┤\n",
      "│       0.365 │              0.05  │     0.597 │\n",
      "├─────────────┼────────────────────┼───────────┤\n",
      "│       0.3   │              0.068 │     0.513 │\n",
      "├─────────────┼────────────────────┼───────────┤\n",
      "│       0.2   │             -0.069 │     0.584 │\n",
      "├─────────────┼────────────────────┼───────────┤\n",
      "│       0.1   │             -0.02  │     0.908 │\n",
      "╘═════════════╧════════════════════╧═══════════╛\n"
     ]
    }
   ],
   "source": [
    "rslt_bw4 = get_bandwidth_results(df,\"encouraged\",\"stdgrade\")\n",
    "get_table_spec3(rslt_bw4)"
   ]
  },
  {
   "cell_type": "markdown",
   "metadata": {},
   "source": [
    "**Standardized Grades - Forced Courses**"
   ]
  },
  {
   "cell_type": "code",
   "execution_count": 40,
   "metadata": {},
   "outputs": [
    {
     "name": "stdout",
     "output_type": "stream",
     "text": [
      "╒═════════════╤════════════════════╤═══════════╕\n",
      "│   Bandwidth │   Treatment Effect │   p-value │\n",
      "╞═════════════╪════════════════════╪═══════════╡\n",
      "│       0.5   │             -0.027 │     0.769 │\n",
      "├─────────────┼────────────────────┼───────────┤\n",
      "│       0.4   │             -0.025 │     0.8   │\n",
      "├─────────────┼────────────────────┼───────────┤\n",
      "│       0.365 │              0.063 │     0.54  │\n",
      "├─────────────┼────────────────────┼───────────┤\n",
      "│       0.3   │              0.052 │     0.638 │\n",
      "├─────────────┼────────────────────┼───────────┤\n",
      "│       0.2   │             -0.162 │     0.216 │\n",
      "├─────────────┼────────────────────┼───────────┤\n",
      "│       0.1   │             -0.291 │     0.099 │\n",
      "╘═════════════╧════════════════════╧═══════════╛\n"
     ]
    }
   ],
   "source": [
    "rslt_bw5 = get_bandwidth_results(df,\"forced\",\"stdgrade\")\n",
    "get_table_spec3(rslt_bw5)"
   ]
  },
  {
   "cell_type": "markdown",
   "metadata": {},
   "source": [
    "Finally, I compare the effect of the selected bandwidth between the linear, quadratic and cubic specification within voluntary courses and only on standardized grades. One can see that in contrast to the linear specification where the treatment effect becomes highly signficant, even in my non-robust specification, the effects in the quadratic and cubic specification become smaller and insignificant the smaller the selected bandwidth. "
   ]
  },
  {
   "cell_type": "code",
   "execution_count": 41,
   "metadata": {},
   "outputs": [],
   "source": [
    "### Quadratic and Cubic Bandwidth Results\n",
    "\n",
    "rslt_bw_quad = get_bandwidth_results2(df,\"voluntary\",\"stdgrade\") \n",
    "rslt_bw_cub = get_bandwidth_results3(df,\"voluntary\",\"stdgrade\")"
   ]
  },
  {
   "cell_type": "code",
   "execution_count": 42,
   "metadata": {},
   "outputs": [
    {
     "name": "stdout",
     "output_type": "stream",
     "text": [
      "╒═════════════╤═══════════════════╤═══════════╤══════════════════════╤═══════════╤══════════════════╤═══════════╕\n",
      "│   Bandwidth │   Effect (linear) │   p-value │   Effect (quadratic) │   p-value │   Effect (cubic) │   p-value │\n",
      "╞═════════════╪═══════════════════╪═══════════╪══════════════════════╪═══════════╪══════════════════╪═══════════╡\n",
      "│       0.5   │            -0.141 │     0.112 │               -0.114 │     0.367 │           -0.424 │     0.015 │\n",
      "├─────────────┼───────────────────┼───────────┼──────────────────────┼───────────┼──────────────────┼───────────┤\n",
      "│       0.4   │            -0.08  │     0.403 │               -0.269 │     0.056 │           -0.431 │     0.026 │\n",
      "├─────────────┼───────────────────┼───────────┼──────────────────────┼───────────┼──────────────────┼───────────┤\n",
      "│       0.365 │            -0.051 │     0.603 │               -0.381 │     0.01  │           -0.339 │     0.095 │\n",
      "├─────────────┼───────────────────┼───────────┼──────────────────────┼───────────┼──────────────────┼───────────┤\n",
      "│       0.3   │            -0.108 │     0.321 │               -0.444 │     0.008 │           -0.243 │     0.278 │\n",
      "├─────────────┼───────────────────┼───────────┼──────────────────────┼───────────┼──────────────────┼───────────┤\n",
      "│       0.2   │            -0.352 │     0.008 │               -0.261 │     0.201 │           -0.156 │     0.581 │\n",
      "├─────────────┼───────────────────┼───────────┼──────────────────────┼───────────┼──────────────────┼───────────┤\n",
      "│       0.1   │            -0.344 │     0.06  │                0.039 │     0.893 │            0.188 │     0.64  │\n",
      "╘═════════════╧═══════════════════╧═══════════╧══════════════════════╧═══════════╧══════════════════╧═══════════╛\n"
     ]
    }
   ],
   "source": [
    "get_table_spec3_comparison(rslt_bw2, rslt_bw_quad, rslt_bw_cub)"
   ]
  },
  {
   "cell_type": "markdown",
   "metadata": {},
   "source": [
    "# (7.) Conclusion/Discussion <a name=\"conclusion\"></a>\n",
    "\n",
    "All in all I find similiar results compared to Kapoor et al. (2020), especially when I use the \"rdrobust\" function. I found a strikingly different result regarding the treatment effect on grades using local linear regression estimates which might be explained by the characteristics of the \"rdrobust\" function which  \"allows for covariate-adjusted point estimation and covariate-adjusted robust bias-corrected inference\" (Calonico et al.(2017)). \n",
    "\n",
    "Nevertheless, even considering my weaker result of having no treatment effect on second-year grades within voluntary courses, the implementation or success of this forced attendance policy is very questionable and was abolished in 2014 after all. The negative effect of constraining the independent choice of study input seems to outweigh the positive effect of giving additional structure to students. These findings of Kapoor et al. (2020) are in conflict with other papers on the topic of mandatory tutorial sessions in the field of Education Economics. In stark contrast are the results of Dobkin et al. (2010) that find a significant positive treatment effect on grades using RDD as well. Though, their attendance policy differed in that treatment of forced attendance was assigned course-wise and already after the midterm exams and only for the remaining semester. Therefore, one could argue that the induced costs of forced tutorial attendance were not as severe as in Kapoor et al. (2020). Overall, the findings of Kapoor et al. (2020) show that the effect of additional structure in university programs is not as obvious as expected and leads itself to further empirical work. One parameter one might change in future studies is the severeness of forced tutorials. "
   ]
  },
  {
   "cell_type": "markdown",
   "metadata": {},
   "source": [
    "# (8.) References <a name=\"references\"></a>\n",
    "\n",
    "* **Calconico, Cattaneo & Farrel (2017).** rdrobust: Software for regression-discontinuity designs. The Stata Journal (17, Number 2, pp. 372–404).\n",
    "\n",
    "\n",
    "* **Cunningham (2021).** Causal Inference: The Mixtape. Yale University Press.\n",
    "\n",
    "\n",
    "* **Dobkin, Gil & Marion (2010).** Skipping Class in College and Exam Performance: Evidence from a Regression Discontinuity Classroom Experiment. Economics of Education Review (Volume 29, Issue 4, pp. 566-575).\n",
    "\n",
    "\n",
    "* **Kapoor, Oosterveen & Webbink (2020).** The Price of Forced Attendance. Journal of Applied Econometrics (Volume 36, Issue 2, pp. 209-227). "
   ]
  }
 ],
 "metadata": {
  "kernelspec": {
   "display_name": "Python 3",
   "language": "python",
   "name": "python3"
  },
  "language_info": {
   "codemirror_mode": {
    "name": "ipython",
    "version": 3
   },
   "file_extension": ".py",
   "mimetype": "text/x-python",
   "name": "python",
   "nbconvert_exporter": "python",
   "pygments_lexer": "ipython3",
   "version": "3.9.5"
  }
 },
 "nbformat": 4,
 "nbformat_minor": 2
}
